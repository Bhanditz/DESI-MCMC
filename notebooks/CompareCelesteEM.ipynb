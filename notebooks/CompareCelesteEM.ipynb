{
 "metadata": {
  "name": "",
  "signature": "sha256:658a4d07b53239ceef55d858650b52c1f35caf2979afe62f1feca9dd022d7ef4"
 },
 "nbformat": 3,
 "nbformat_minor": 0,
 "worksheets": [
  {
   "cells": [
    {
     "cell_type": "code",
     "collapsed": false,
     "input": [
      "%load_ext autoreload\n",
      "%autoreload 2\n",
      "%pylab inline\n",
      "pylab.rcParams['figure.figsize'] = (14.0, 8.0)\n",
      "import sys\n",
      "import os.path\n",
      "sys.path.append(\n",
      "    os.path.abspath(os.path.join(os.path.dirname('..'), os.path.pardir)))"
     ],
     "language": "python",
     "metadata": {},
     "outputs": [
      {
       "output_type": "stream",
       "stream": "stdout",
       "text": [
        "The autoreload extension is already loaded. To reload it, use:\n",
        "  %reload_ext autoreload\n",
        "Populating the interactive namespace from numpy and matplotlib\n"
       ]
      }
     ],
     "prompt_number": 5
    },
    {
     "cell_type": "code",
     "collapsed": false,
     "input": [
      "from celeste import FitsImage, get_sources_from_catalog, gen_model_image, celeste_likelihood_multi_image\n",
      "from celeste_em import celeste_em\n",
      "import planck\n",
      "from glob import glob\n",
      "from util.init_utils import load_imgs_and_catalog\n",
      "\n",
      "# build a single catalog (python list of srcs), from one big list of FitsImages\n",
      "cat_glob = glob('../data/stamp_catalog/cat*.fits')[0:25]\n",
      "srcs, imgs, teff_catalog, us = load_imgs_and_catalog(cat_glob)\n",
      "print \"loaded %d sources and %d images\"%(len(srcs), len(imgs))\n",
      "\n",
      "#cache initial likelihood, initial temp\n",
      "ll0 = celeste_likelihood_multi_image(srcs, imgs)\n",
      "print ll0"
     ],
     "language": "python",
     "metadata": {},
     "outputs": [
      {
       "output_type": "stream",
       "stream": "stdout",
       "text": [
        "loaded 57 sources and 125 images\n",
        "1411099050.4"
       ]
      },
      {
       "output_type": "stream",
       "stream": "stdout",
       "text": [
        "\n"
       ]
      }
     ],
     "prompt_number": 6
    },
    {
     "cell_type": "code",
     "collapsed": false,
     "input": [
      "# do a few random restarts\n",
      "restart_lls = []\n",
      "for restart_i in range(1): \n",
      "    # reset s's and do EM\n",
      "    for s in srcs:\n",
      "        s.t = np.random.rand()*1e4\n",
      "        s.b = np.random.rand()*1e-9\n",
      "        s.fluxes = None\n",
      "    for img in imgs:\n",
      "        img.epsilon = np.random.rand()*1e3\n",
      "\n",
      "    print \"========= EM for %d sources, %d images ================\"%(len(srcs), len(imgs))\n",
      "    ll_trace, conv = celeste_em(srcs, imgs, maxiter=80, debug=False, verbose=True)\n",
      "    print ll_trace[-1]\n",
      "    restart_lls.append(ll_trace[-1])    \n",
      "print restart_lls\n",
      "\n",
      "# cache final likelihood\n",
      "#lls.append(ll_trace[-1])\n",
      "#print lls"
     ],
     "language": "python",
     "metadata": {},
     "outputs": [
      {
       "output_type": "stream",
       "stream": "stdout",
       "text": [
        "========= EM for 57 sources, 125 images ================\n",
        "Initial Log Likelihood = 1215235539.01"
       ]
      },
      {
       "output_type": "stream",
       "stream": "stdout",
       "text": [
        "\n",
        "============================================\n",
        "  iter 0 E-step\n",
        "  iter 0 M-step"
       ]
      },
      {
       "output_type": "stream",
       "stream": "stdout",
       "text": [
        "\n",
        ".... current marginal likelihood = 1386570439.03"
       ]
      },
      {
       "output_type": "stream",
       "stream": "stdout",
       "text": [
        "\n",
        "============================================\n",
        "  iter 1 E-step\n",
        "  iter 1 M-step"
       ]
      },
      {
       "output_type": "stream",
       "stream": "stdout",
       "text": [
        "\n",
        ".... current marginal likelihood = 1397860958.46"
       ]
      },
      {
       "output_type": "stream",
       "stream": "stdout",
       "text": [
        "\n",
        "============================================\n",
        "  iter 2 E-step\n",
        "  iter 2 M-step"
       ]
      },
      {
       "output_type": "stream",
       "stream": "stdout",
       "text": [
        "\n",
        ".... current marginal likelihood = 1403307880.50"
       ]
      },
      {
       "output_type": "stream",
       "stream": "stdout",
       "text": [
        "\n",
        "============================================\n",
        "  iter 3 E-step\n",
        "  iter 3 M-step"
       ]
      },
      {
       "output_type": "stream",
       "stream": "stdout",
       "text": [
        "\n",
        ".... current marginal likelihood = 1405289891.57"
       ]
      },
      {
       "output_type": "stream",
       "stream": "stdout",
       "text": [
        "\n",
        "============================================\n",
        "  iter 4 E-step\n",
        "  iter 4 M-step"
       ]
      },
      {
       "output_type": "stream",
       "stream": "stdout",
       "text": [
        "\n",
        ".... current marginal likelihood = 1405601258.47"
       ]
      },
      {
       "output_type": "stream",
       "stream": "stdout",
       "text": [
        "\n",
        "============================================\n",
        "  iter 5 E-step\n",
        "  iter 5 M-step"
       ]
      },
      {
       "output_type": "stream",
       "stream": "stdout",
       "text": [
        "\n",
        ".... current marginal likelihood = 1405630816.18"
       ]
      },
      {
       "output_type": "stream",
       "stream": "stdout",
       "text": [
        "\n",
        "============================================\n",
        "  iter 6 E-step\n",
        "  iter 6 M-step"
       ]
      },
      {
       "output_type": "stream",
       "stream": "stdout",
       "text": [
        "\n",
        ".... current marginal likelihood = 1405635846.54"
       ]
      },
      {
       "output_type": "stream",
       "stream": "stdout",
       "text": [
        "\n",
        "============================================\n",
        "  iter 7 E-step\n",
        "  iter 7 M-step"
       ]
      },
      {
       "output_type": "stream",
       "stream": "stdout",
       "text": [
        "\n",
        ".... current marginal likelihood = 1405638272.62"
       ]
      },
      {
       "output_type": "stream",
       "stream": "stdout",
       "text": [
        "\n",
        "============================================\n",
        "  iter 8 E-step\n",
        "  iter 8 M-step"
       ]
      },
      {
       "output_type": "stream",
       "stream": "stdout",
       "text": [
        "\n",
        ".... current marginal likelihood = 1405639847.57"
       ]
      },
      {
       "output_type": "stream",
       "stream": "stdout",
       "text": [
        "\n",
        "============================================\n",
        "  iter 9 E-step\n",
        "  iter 9 M-step"
       ]
      },
      {
       "output_type": "stream",
       "stream": "stdout",
       "text": [
        "\n",
        ".... current marginal likelihood = 1405640935.68"
       ]
      },
      {
       "output_type": "stream",
       "stream": "stdout",
       "text": [
        "\n",
        "============================================\n",
        "  iter 10 E-step\n",
        "  iter 10 M-step"
       ]
      },
      {
       "output_type": "stream",
       "stream": "stdout",
       "text": [
        "\n",
        ".... current marginal likelihood = 1405641718.48"
       ]
      },
      {
       "output_type": "stream",
       "stream": "stdout",
       "text": [
        "\n",
        "============================================\n",
        "  iter 11 E-step\n",
        "  iter 11 M-step"
       ]
      },
      {
       "output_type": "stream",
       "stream": "stdout",
       "text": [
        "\n",
        ".... current marginal likelihood = 1405642301.95"
       ]
      },
      {
       "output_type": "stream",
       "stream": "stdout",
       "text": [
        "\n",
        "============================================\n",
        "  iter 12 E-step\n",
        "  iter 12 M-step"
       ]
      },
      {
       "output_type": "stream",
       "stream": "stdout",
       "text": [
        "\n",
        ".... current marginal likelihood = 1405642748.81"
       ]
      },
      {
       "output_type": "stream",
       "stream": "stdout",
       "text": [
        "\n",
        "============================================\n",
        "  iter 13 E-step\n",
        "  iter 13 M-step"
       ]
      },
      {
       "output_type": "stream",
       "stream": "stdout",
       "text": [
        "\n",
        ".... current marginal likelihood = 1405643100.14"
       ]
      },
      {
       "output_type": "stream",
       "stream": "stdout",
       "text": [
        "\n",
        "============================================\n",
        "  iter 14 E-step\n",
        "  iter 14 M-step"
       ]
      },
      {
       "output_type": "stream",
       "stream": "stdout",
       "text": [
        "\n",
        ".... current marginal likelihood = 1405643382.24"
       ]
      },
      {
       "output_type": "stream",
       "stream": "stdout",
       "text": [
        "\n",
        "============================================\n",
        "  iter 15 E-step\n",
        "  iter 15 M-step"
       ]
      },
      {
       "output_type": "stream",
       "stream": "stdout",
       "text": [
        "\n",
        ".... current marginal likelihood = 1405643612.61"
       ]
      },
      {
       "output_type": "stream",
       "stream": "stdout",
       "text": [
        "\n",
        "============================================\n",
        "  iter 16 E-step\n",
        "  iter 16 M-step"
       ]
      },
      {
       "output_type": "stream",
       "stream": "stdout",
       "text": [
        "\n",
        ".... current marginal likelihood = 1405643803.40"
       ]
      },
      {
       "output_type": "stream",
       "stream": "stdout",
       "text": [
        "\n",
        "============================================\n",
        "  iter 17 E-step\n",
        "  iter 17 M-step"
       ]
      },
      {
       "output_type": "stream",
       "stream": "stdout",
       "text": [
        "\n",
        ".... current marginal likelihood = 1405643963.33"
       ]
      },
      {
       "output_type": "stream",
       "stream": "stdout",
       "text": [
        "\n",
        "============================================\n",
        "  iter 18 E-step\n",
        "  iter 18 M-step"
       ]
      },
      {
       "output_type": "stream",
       "stream": "stdout",
       "text": [
        "\n",
        ".... current marginal likelihood = 1405644098.79"
       ]
      },
      {
       "output_type": "stream",
       "stream": "stdout",
       "text": [
        "\n",
        "============================================\n",
        "  iter 19 E-step\n",
        "  iter 19 M-step"
       ]
      },
      {
       "output_type": "stream",
       "stream": "stdout",
       "text": [
        "\n",
        ".... current marginal likelihood = 1405644214.57"
       ]
      },
      {
       "output_type": "stream",
       "stream": "stdout",
       "text": [
        "\n",
        "============================================\n",
        "  iter 20 E-step\n",
        "  iter 20 M-step"
       ]
      },
      {
       "output_type": "stream",
       "stream": "stdout",
       "text": [
        "\n",
        ".... current marginal likelihood = 1405644314.33"
       ]
      },
      {
       "output_type": "stream",
       "stream": "stdout",
       "text": [
        "\n",
        "============================================\n",
        "  iter 21 E-step\n",
        "  iter 21 M-step"
       ]
      },
      {
       "output_type": "stream",
       "stream": "stdout",
       "text": [
        "\n",
        ".... current marginal likelihood = 1405644401.11"
       ]
      },
      {
       "output_type": "stream",
       "stream": "stdout",
       "text": [
        "\n",
        "============================================\n",
        "  iter 22 E-step\n",
        "  iter 22 M-step"
       ]
      },
      {
       "output_type": "stream",
       "stream": "stdout",
       "text": [
        "\n",
        ".... current marginal likelihood = 1405644478.36"
       ]
      },
      {
       "output_type": "stream",
       "stream": "stdout",
       "text": [
        "\n",
        "============================================\n",
        "  iter 23 E-step\n",
        "  iter 23 M-step"
       ]
      },
      {
       "output_type": "stream",
       "stream": "stdout",
       "text": [
        "\n",
        ".... current marginal likelihood = 1405644556.09"
       ]
      },
      {
       "output_type": "stream",
       "stream": "stdout",
       "text": [
        "\n",
        "============================================\n",
        "  iter 24 E-step\n",
        "  iter 24 M-step"
       ]
      },
      {
       "output_type": "stream",
       "stream": "stdout",
       "text": [
        "\n",
        ".... current marginal likelihood = 1405644691.82"
       ]
      },
      {
       "output_type": "stream",
       "stream": "stdout",
       "text": [
        "\n",
        "============================================\n",
        "  iter 25 E-step\n",
        "  iter 25 M-step"
       ]
      },
      {
       "output_type": "stream",
       "stream": "stdout",
       "text": [
        "\n",
        ".... current marginal likelihood = 1405645282.01"
       ]
      },
      {
       "output_type": "stream",
       "stream": "stdout",
       "text": [
        "\n",
        "============================================\n",
        "  iter 26 E-step\n",
        "  iter 26 M-step"
       ]
      },
      {
       "output_type": "stream",
       "stream": "stdout",
       "text": [
        "\n",
        ".... current marginal likelihood = 1405649262.62"
       ]
      },
      {
       "output_type": "stream",
       "stream": "stdout",
       "text": [
        "\n",
        "============================================\n",
        "  iter 27 E-step\n",
        "  iter 27 M-step"
       ]
      },
      {
       "output_type": "stream",
       "stream": "stdout",
       "text": [
        "\n",
        ".... current marginal likelihood = 1405680614.96"
       ]
      },
      {
       "output_type": "stream",
       "stream": "stdout",
       "text": [
        "\n",
        "============================================\n",
        "  iter 28 E-step\n",
        "  iter 28 M-step"
       ]
      },
      {
       "output_type": "stream",
       "stream": "stdout",
       "text": [
        "\n",
        ".... current marginal likelihood = 1405954969.33"
       ]
      },
      {
       "output_type": "stream",
       "stream": "stdout",
       "text": [
        "\n",
        "============================================\n",
        "  iter 29 E-step\n",
        "  iter 29 M-step"
       ]
      },
      {
       "output_type": "stream",
       "stream": "stdout",
       "text": [
        "\n",
        ".... current marginal likelihood = 1407413502.26"
       ]
      },
      {
       "output_type": "stream",
       "stream": "stdout",
       "text": [
        "\n",
        "============================================\n",
        "  iter 30 E-step\n",
        "  iter 30 M-step"
       ]
      },
      {
       "output_type": "stream",
       "stream": "stdout",
       "text": [
        "\n",
        ".... current marginal likelihood = 1408778506.35"
       ]
      },
      {
       "output_type": "stream",
       "stream": "stdout",
       "text": [
        "\n",
        "============================================\n",
        "  iter 31 E-step\n",
        "  iter 31 M-step"
       ]
      },
      {
       "output_type": "stream",
       "stream": "stdout",
       "text": [
        "\n",
        ".... current marginal likelihood = 1408970730.59"
       ]
      },
      {
       "output_type": "stream",
       "stream": "stdout",
       "text": [
        "\n",
        "============================================\n",
        "  iter 32 E-step\n",
        "  iter 32 M-step"
       ]
      },
      {
       "output_type": "stream",
       "stream": "stdout",
       "text": [
        "\n",
        ".... current marginal likelihood = 1408983789.48"
       ]
      },
      {
       "output_type": "stream",
       "stream": "stdout",
       "text": [
        "\n",
        "============================================\n",
        "  iter 33 E-step\n",
        "  iter 33 M-step"
       ]
      },
      {
       "output_type": "stream",
       "stream": "stdout",
       "text": [
        "\n",
        ".... current marginal likelihood = 1408984903.93"
       ]
      },
      {
       "output_type": "stream",
       "stream": "stdout",
       "text": [
        "\n",
        "============================================\n",
        "  iter 34 E-step\n",
        "  iter 34 M-step"
       ]
      },
      {
       "output_type": "stream",
       "stream": "stdout",
       "text": [
        "\n",
        ".... current marginal likelihood = 1408985039.20"
       ]
      },
      {
       "output_type": "stream",
       "stream": "stdout",
       "text": [
        "\n",
        "============================================\n",
        "  iter 35 E-step\n",
        "  iter 35 M-step"
       ]
      },
      {
       "output_type": "stream",
       "stream": "stdout",
       "text": [
        "\n",
        ".... current marginal likelihood = 1408985070.20"
       ]
      },
      {
       "output_type": "stream",
       "stream": "stdout",
       "text": [
        "\n",
        "============================================\n",
        "  iter 36 E-step\n",
        "  iter 36 M-step"
       ]
      },
      {
       "output_type": "stream",
       "stream": "stdout",
       "text": [
        "\n",
        ".... current marginal likelihood = 1408985088.13"
       ]
      },
      {
       "output_type": "stream",
       "stream": "stdout",
       "text": [
        "\n",
        "============================================\n",
        "  iter 37 E-step\n",
        "  iter 37 M-step"
       ]
      },
      {
       "output_type": "stream",
       "stream": "stdout",
       "text": [
        "\n",
        ".... current marginal likelihood = 1408985103.49"
       ]
      },
      {
       "output_type": "stream",
       "stream": "stdout",
       "text": [
        "\n",
        "============================================\n",
        "  iter 38 E-step\n",
        "  iter 38 M-step"
       ]
      },
      {
       "output_type": "stream",
       "stream": "stdout",
       "text": [
        "\n",
        ".... current marginal likelihood = 1408985117.54"
       ]
      },
      {
       "output_type": "stream",
       "stream": "stdout",
       "text": [
        "\n",
        "============================================\n",
        "  iter 39 E-step\n",
        "  iter 39 M-step"
       ]
      },
      {
       "output_type": "stream",
       "stream": "stdout",
       "text": [
        "\n",
        ".... current marginal likelihood = 1408985130.48"
       ]
      },
      {
       "output_type": "stream",
       "stream": "stdout",
       "text": [
        "\n",
        "============================================\n",
        "  iter 40 E-step\n",
        "  iter 40 M-step"
       ]
      },
      {
       "output_type": "stream",
       "stream": "stdout",
       "text": [
        "\n",
        ".... current marginal likelihood = 1408985142.44"
       ]
      },
      {
       "output_type": "stream",
       "stream": "stdout",
       "text": [
        "\n",
        "============================================\n",
        "  iter 41 E-step\n",
        "  iter 41 M-step"
       ]
      },
      {
       "output_type": "stream",
       "stream": "stdout",
       "text": [
        "\n",
        ".... current marginal likelihood = 1408985153.49"
       ]
      },
      {
       "output_type": "stream",
       "stream": "stdout",
       "text": [
        "\n",
        "============================================\n",
        "  iter 42 E-step\n",
        "  iter 42 M-step"
       ]
      },
      {
       "output_type": "stream",
       "stream": "stdout",
       "text": [
        "\n",
        ".... current marginal likelihood = 1408985163.73"
       ]
      },
      {
       "output_type": "stream",
       "stream": "stdout",
       "text": [
        "\n",
        "============================================\n",
        "  iter 43 E-step\n",
        "  iter 43 M-step"
       ]
      },
      {
       "output_type": "stream",
       "stream": "stdout",
       "text": [
        "\n",
        ".... current marginal likelihood = 1408985173.22"
       ]
      },
      {
       "output_type": "stream",
       "stream": "stdout",
       "text": [
        "\n",
        "============================================\n",
        "  iter 44 E-step\n",
        "  iter 44 M-step"
       ]
      },
      {
       "output_type": "stream",
       "stream": "stdout",
       "text": [
        "\n",
        ".... current marginal likelihood = 1408985182.04"
       ]
      },
      {
       "output_type": "stream",
       "stream": "stdout",
       "text": [
        "\n",
        "============================================\n",
        "  iter 45 E-step\n",
        "  iter 45 M-step"
       ]
      },
      {
       "output_type": "stream",
       "stream": "stdout",
       "text": [
        "\n",
        ".... current marginal likelihood = 1408985190.24"
       ]
      },
      {
       "output_type": "stream",
       "stream": "stdout",
       "text": [
        "\n",
        "============================================\n",
        "  iter 46 E-step\n",
        "  iter 46 M-step"
       ]
      },
      {
       "output_type": "stream",
       "stream": "stdout",
       "text": [
        "\n",
        ".... current marginal likelihood = 1408985197.87"
       ]
      },
      {
       "output_type": "stream",
       "stream": "stdout",
       "text": [
        "\n",
        "============================================\n",
        "  iter 47 E-step\n",
        "  iter 47 M-step"
       ]
      },
      {
       "output_type": "stream",
       "stream": "stdout",
       "text": [
        "\n",
        ".... current marginal likelihood = 1408985204.98"
       ]
      },
      {
       "output_type": "stream",
       "stream": "stdout",
       "text": [
        "\n",
        "============================================\n",
        "  iter 48 E-step\n",
        "  iter 48 M-step"
       ]
      },
      {
       "output_type": "stream",
       "stream": "stdout",
       "text": [
        "\n",
        ".... current marginal likelihood = 1408985211.62"
       ]
      },
      {
       "output_type": "stream",
       "stream": "stdout",
       "text": [
        "\n",
        "============================================\n",
        "  iter 49 E-step\n",
        "  iter 49 M-step"
       ]
      },
      {
       "output_type": "stream",
       "stream": "stdout",
       "text": [
        "\n",
        ".... current marginal likelihood = 1408985217.83"
       ]
      },
      {
       "output_type": "stream",
       "stream": "stdout",
       "text": [
        "\n",
        "============================================\n",
        "  iter 50 E-step\n",
        "  iter 50 M-step"
       ]
      },
      {
       "output_type": "stream",
       "stream": "stdout",
       "text": [
        "\n",
        ".... current marginal likelihood = 1408985223.63"
       ]
      },
      {
       "output_type": "stream",
       "stream": "stdout",
       "text": [
        "\n",
        "============================================\n",
        "  iter 51 E-step\n",
        "  iter 51 M-step"
       ]
      },
      {
       "output_type": "stream",
       "stream": "stdout",
       "text": [
        "\n",
        ".... current marginal likelihood = 1408985229.07"
       ]
      },
      {
       "output_type": "stream",
       "stream": "stdout",
       "text": [
        "\n",
        "============================================\n",
        "  iter 52 E-step\n",
        "  iter 52 M-step"
       ]
      },
      {
       "output_type": "stream",
       "stream": "stdout",
       "text": [
        "\n",
        ".... current marginal likelihood = 1408985234.16"
       ]
      },
      {
       "output_type": "stream",
       "stream": "stdout",
       "text": [
        "\n",
        "============================================\n",
        "  iter 53 E-step\n",
        "  iter 53 M-step"
       ]
      },
      {
       "output_type": "stream",
       "stream": "stdout",
       "text": [
        "\n",
        ".... current marginal likelihood = 1408985238.94"
       ]
      },
      {
       "output_type": "stream",
       "stream": "stdout",
       "text": [
        "\n",
        "============================================\n",
        "  iter 54 E-step\n",
        "  iter 54 M-step"
       ]
      },
      {
       "output_type": "stream",
       "stream": "stdout",
       "text": [
        "\n",
        ".... current marginal likelihood = 1408985243.43"
       ]
      },
      {
       "output_type": "stream",
       "stream": "stdout",
       "text": [
        "\n",
        "============================================\n",
        "  iter 55 E-step\n",
        "  iter 55 M-step"
       ]
      },
      {
       "output_type": "stream",
       "stream": "stdout",
       "text": [
        "\n",
        ".... current marginal likelihood = 1408985247.65"
       ]
      },
      {
       "output_type": "stream",
       "stream": "stdout",
       "text": [
        "\n",
        "============================================\n",
        "  iter 56 E-step\n",
        "  iter 56 M-step"
       ]
      },
      {
       "output_type": "stream",
       "stream": "stdout",
       "text": [
        "\n",
        ".... current marginal likelihood = 1408985251.63"
       ]
      },
      {
       "output_type": "stream",
       "stream": "stdout",
       "text": [
        "\n",
        "============================================\n",
        "  iter 57 E-step\n",
        "  iter 57 M-step"
       ]
      },
      {
       "output_type": "stream",
       "stream": "stdout",
       "text": [
        "\n",
        ".... current marginal likelihood = 1408985255.36"
       ]
      },
      {
       "output_type": "stream",
       "stream": "stdout",
       "text": [
        "\n",
        "============================================\n",
        "  iter 58 E-step\n",
        "  iter 58 M-step"
       ]
      },
      {
       "output_type": "stream",
       "stream": "stdout",
       "text": [
        "\n",
        ".... current marginal likelihood = 1408985258.89"
       ]
      },
      {
       "output_type": "stream",
       "stream": "stdout",
       "text": [
        "\n",
        "============================================\n",
        "  iter 59 E-step\n",
        "  iter 59 M-step"
       ]
      },
      {
       "output_type": "stream",
       "stream": "stdout",
       "text": [
        "\n",
        ".... current marginal likelihood = 1408985262.21"
       ]
      },
      {
       "output_type": "stream",
       "stream": "stdout",
       "text": [
        "\n",
        "============================================\n",
        "  iter 60 E-step\n",
        "  iter 60 M-step"
       ]
      },
      {
       "output_type": "stream",
       "stream": "stdout",
       "text": [
        "\n",
        ".... current marginal likelihood = 1408985265.35"
       ]
      },
      {
       "output_type": "stream",
       "stream": "stdout",
       "text": [
        "\n",
        "============================================\n",
        "  iter 61 E-step\n",
        "  iter 61 M-step"
       ]
      },
      {
       "output_type": "stream",
       "stream": "stdout",
       "text": [
        "\n",
        ".... current marginal likelihood = 1408985268.32"
       ]
      },
      {
       "output_type": "stream",
       "stream": "stdout",
       "text": [
        "\n",
        "============================================\n",
        "  iter 62 E-step\n",
        "  iter 62 M-step"
       ]
      },
      {
       "output_type": "stream",
       "stream": "stdout",
       "text": [
        "\n",
        ".... current marginal likelihood = 1408985271.13"
       ]
      },
      {
       "output_type": "stream",
       "stream": "stdout",
       "text": [
        "\n",
        "============================================\n",
        "  iter 63 E-step\n",
        "  iter 63 M-step"
       ]
      },
      {
       "output_type": "stream",
       "stream": "stdout",
       "text": [
        "\n",
        ".... current marginal likelihood = 1408985273.78"
       ]
      },
      {
       "output_type": "stream",
       "stream": "stdout",
       "text": [
        "\n",
        "============================================\n",
        "  iter 64 E-step\n",
        "  iter 64 M-step"
       ]
      },
      {
       "output_type": "stream",
       "stream": "stdout",
       "text": [
        "\n",
        ".... current marginal likelihood = 1408985276.30"
       ]
      },
      {
       "output_type": "stream",
       "stream": "stdout",
       "text": [
        "\n",
        "============================================\n",
        "  iter 65 E-step\n",
        "  iter 65 M-step"
       ]
      },
      {
       "output_type": "stream",
       "stream": "stdout",
       "text": [
        "\n",
        ".... current marginal likelihood = 1408985278.68"
       ]
      },
      {
       "output_type": "stream",
       "stream": "stdout",
       "text": [
        "\n",
        "============================================\n",
        "  iter 66 E-step\n",
        "  iter 66 M-step"
       ]
      },
      {
       "output_type": "stream",
       "stream": "stdout",
       "text": [
        "\n",
        ".... current marginal likelihood = 1408985280.94"
       ]
      },
      {
       "output_type": "stream",
       "stream": "stdout",
       "text": [
        "\n",
        "============================================\n",
        "  iter 67 E-step\n",
        "  iter 67 M-step"
       ]
      },
      {
       "output_type": "stream",
       "stream": "stdout",
       "text": [
        "\n",
        ".... current marginal likelihood = 1408985283.08"
       ]
      },
      {
       "output_type": "stream",
       "stream": "stdout",
       "text": [
        "\n",
        "============================================\n",
        "  iter 68 E-step\n",
        "  iter 68 M-step"
       ]
      },
      {
       "output_type": "stream",
       "stream": "stdout",
       "text": [
        "\n",
        ".... current marginal likelihood = 1408985285.12"
       ]
      },
      {
       "output_type": "stream",
       "stream": "stdout",
       "text": [
        "\n",
        "============================================\n",
        "  iter 69 E-step\n",
        "  iter 69 M-step"
       ]
      },
      {
       "output_type": "stream",
       "stream": "stdout",
       "text": [
        "\n",
        ".... current marginal likelihood = 1408985287.06"
       ]
      },
      {
       "output_type": "stream",
       "stream": "stdout",
       "text": [
        "\n",
        "============================================\n",
        "  iter 70 E-step\n",
        "  iter 70 M-step"
       ]
      },
      {
       "output_type": "stream",
       "stream": "stdout",
       "text": [
        "\n",
        ".... current marginal likelihood = 1408985288.90"
       ]
      },
      {
       "output_type": "stream",
       "stream": "stdout",
       "text": [
        "\n",
        "============================================\n",
        "  iter 71 E-step\n",
        "  iter 71 M-step"
       ]
      },
      {
       "output_type": "stream",
       "stream": "stdout",
       "text": [
        "\n",
        ".... current marginal likelihood = 1408985290.66"
       ]
      },
      {
       "output_type": "stream",
       "stream": "stdout",
       "text": [
        "\n",
        "============================================\n",
        "  iter 72 E-step\n",
        "  iter 72 M-step"
       ]
      },
      {
       "output_type": "stream",
       "stream": "stdout",
       "text": [
        "\n",
        ".... current marginal likelihood = 1408985292.32"
       ]
      },
      {
       "output_type": "stream",
       "stream": "stdout",
       "text": [
        "\n",
        "============================================\n",
        "  iter 73 E-step\n",
        "  iter 73 M-step"
       ]
      },
      {
       "output_type": "stream",
       "stream": "stdout",
       "text": [
        "\n",
        ".... current marginal likelihood = 1408985293.92"
       ]
      },
      {
       "output_type": "stream",
       "stream": "stdout",
       "text": [
        "\n",
        "============================================\n",
        "  iter 74 E-step\n",
        "  iter 74 M-step"
       ]
      },
      {
       "output_type": "stream",
       "stream": "stdout",
       "text": [
        "\n",
        ".... current marginal likelihood = 1408985295.44"
       ]
      },
      {
       "output_type": "stream",
       "stream": "stdout",
       "text": [
        "\n",
        "============================================\n",
        "  iter 75 E-step\n",
        "  iter 75 M-step"
       ]
      },
      {
       "output_type": "stream",
       "stream": "stdout",
       "text": [
        "\n",
        ".... current marginal likelihood = 1408985296.88"
       ]
      },
      {
       "output_type": "stream",
       "stream": "stdout",
       "text": [
        "\n",
        "============================================\n",
        "  iter 76 E-step\n",
        "  iter 76 M-step"
       ]
      },
      {
       "output_type": "stream",
       "stream": "stdout",
       "text": [
        "\n",
        ".... current marginal likelihood = 1408985298.27"
       ]
      },
      {
       "output_type": "stream",
       "stream": "stdout",
       "text": [
        "\n",
        "============================================\n",
        "  iter 77 E-step\n",
        "  iter 77 M-step"
       ]
      },
      {
       "output_type": "stream",
       "stream": "stdout",
       "text": [
        "\n",
        ".... current marginal likelihood = 1408985299.59"
       ]
      },
      {
       "output_type": "stream",
       "stream": "stdout",
       "text": [
        "\n",
        "============================================\n",
        "  iter 78 E-step\n",
        "  iter 78 M-step"
       ]
      },
      {
       "output_type": "stream",
       "stream": "stdout",
       "text": [
        "\n",
        ".... current marginal likelihood = 1408985300.85"
       ]
      },
      {
       "output_type": "stream",
       "stream": "stdout",
       "text": [
        "\n",
        "============================================\n",
        "  iter 79 E-step\n",
        "  iter 79 M-step"
       ]
      },
      {
       "output_type": "stream",
       "stream": "stdout",
       "text": [
        "\n",
        ".... current marginal likelihood = 1408985302.07"
       ]
      },
      {
       "output_type": "stream",
       "stream": "stdout",
       "text": [
        "\n",
        "1408985302.07\n",
        "[1408985302.0655034]\n"
       ]
      }
     ],
     "prompt_number": 14
    },
    {
     "cell_type": "code",
     "collapsed": false,
     "input": [
      "plt.plot(ll_trace)\n",
      "plt.hlines(ll0, 0, len(ll_trace))\n",
      "print ll0\n",
      "print ll_trace[-1]\n",
      "plt.show()"
     ],
     "language": "python",
     "metadata": {},
     "outputs": [
      {
       "output_type": "stream",
       "stream": "stdout",
       "text": [
        "1411099050.4\n",
        "1408985302.07\n"
       ]
      },
      {
       "metadata": {},
       "output_type": "display_data",
       "png": "[encoded data removed]",
       "text": [
        "<matplotlib.figure.Figure at 0x7f1644c2b650>"
       ]
      }
     ],
     "prompt_number": 15
    },
    {
     "cell_type": "code",
     "collapsed": false,
     "input": [],
     "language": "python",
     "metadata": {},
     "outputs": [
      {
       "output_type": "stream",
       "stream": "stdout",
       "text": [
        "[6082.880859375, 6364.8642578125, 8448.5458984375, 3900.0, 4091.19140625, 7548.8955078125, 4130.083984375, 3705.0, 6021.87548828125, 4122.34814453125, 4859.958984375, 5670.822265625, 6192.8759765625, 6181.2626953125, 5054.6826171875, 8193.9716796875, 6145.884765625, 8526.30078125, 8395.095703125, 7524.4541015625]\n",
        "[5623.8553311233964, 5935.4775825739162, 7902.3307422455646, 6107.8366207361896, 3396.5064047282344, 6904.2813446369037, 3385.1431942898253, 6083.4422034357531, 5607.6706917480642, 3567.5762391572671, 934.36885782003992, 5287.9202653064913, 5973.4989950814397, 6312.7011939524727, 4731.4889302929159, 8696.8220549176604, 6159.1047070084242, 8967.5334227719995, 10174.886243492259, 7252.0925769735622]\n",
        "['0.9103--4.4559', '1.0792--6.0845', '106.5134-39.0525', '118.3707-52.5271', '12.4199--0.3387', '126.2648-13.5561', '13.4592--1.1880', '130.1765-52.7501', '150.5244--0.4788', '156.1608-39.0309', '157.5680-8.8928', '163.8114-65.5188', '164.4311-39.0359', '18.4685-26.8727', '180.0962-48.1701', '181.0341-13.5850', '183.4414-39.7608', '185.7218-18.8366', '188.3444-63.4421', '188.9508-2.0493']\n"
       ]
      },
      {
       "metadata": {},
       "output_type": "display_data",
       "text": [
        "<matplotlib.figure.Figure at 0x1091fead0>"
       ]
      }
     ],
     "prompt_number": 43
    },
    {
     "cell_type": "code",
     "collapsed": false,
     "input": [
      "pylab.rcParams['figure.figsize'] = (10.0, 8.0)\n",
      "teff_fits = np.array([s.t for s in srcs])\n",
      "tfits = teff_fits[teff_catalog > 0]\n",
      "teffs = teff_catalog[ teff_catalog > 0 ]\n",
      "\n",
      "#remove fucking mislabeled outlier\n",
      "teffs = teffs[tfits < 1e4]\n",
      "tfits = tfits[tfits < 1e4]\n",
      "\n",
      "#tfits = np.array(tfits)\n",
      "plt.scatter(teffs, tfits)\n",
      "#for i,u in enumerate(us):\n",
      "#    if np.abs(teffs[i] - tfits[i]) / teffs[i] > .2:\n",
      "#        print u\n",
      "#        plt.text(teffs[i]+10, tfits[i]+10, u)\n",
      "minT = min(teffs.min(), tfits.min()) - 1000\n",
      "maxT = max(teffs.max(), tfits.max()) + 1000\n",
      "plt.plot([minT, maxT], [minT, maxT],  color='k', linestyle='-', linewidth=2)\n",
      "plt.axes().set_aspect('equal', 'datalim')\n",
      "#plt.xlim([minT, 10000]) #maxT])\n",
      "#plt.ylim([minT, 10000]) #maxT])\n",
      "plt.ylim([minT, 10000])\n",
      "plt.xlim([minT, 10000])\n",
      "print minT, maxT\n",
      "plt.xlabel('Temp: T_EFF (K)')\n",
      "plt.ylabel('Temp: $\\hat t_s$ (K)')\n",
      "plt.title('Maximum Likelihood Temperature Fits')\n",
      "plt.savefig('../tex/imgs/max_like_temp_fits.pdf')\n",
      "plt.show()\n"
     ],
     "language": "python",
     "metadata": {},
     "outputs": [
      {
       "output_type": "stream",
       "stream": "stdout",
       "text": [
        "-978.616637291 10399.640625\n"
       ]
      },
      {
       "metadata": {},
       "output_type": "display_data",
       "png": "[encoded data removed]",
       "text": [
        "<matplotlib.figure.Figure at 0x7f1644d5c090>"
       ]
      }
     ],
     "prompt_number": 19
    },
    {
     "cell_type": "code",
     "collapsed": false,
     "input": [],
     "language": "python",
     "metadata": {},
     "outputs": [],
     "prompt_number": 236
    },
    {
     "cell_type": "code",
     "collapsed": false,
     "input": [],
     "language": "python",
     "metadata": {},
     "outputs": [],
     "prompt_number": 236
    },
    {
     "cell_type": "code",
     "collapsed": false,
     "input": [],
     "language": "python",
     "metadata": {},
     "outputs": []
    }
   ],
   "metadata": {}
  }
 ]
}