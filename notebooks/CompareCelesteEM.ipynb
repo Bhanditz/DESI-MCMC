{
 "metadata": {
  "name": "",
  "signature": "sha256:04ea2ec875ad65c798a507fc61adb6184cab58e2e178845d90a149d8495111d1"
 },
 "nbformat": 3,
 "nbformat_minor": 0,
 "worksheets": [
  {
   "cells": [
    {
     "cell_type": "code",
     "collapsed": false,
     "input": [
      "%load_ext autoreload\n",
      "%autoreload 2\n",
      "%pylab inline\n",
      "pylab.rcParams['figure.figsize'] = (14.0, 8.0)\n",
      "import sys\n",
      "import os.path\n",
      "sys.path.append(\n",
      "    os.path.abspath(os.path.join(os.path.dirname('..'), os.path.pardir)))"
     ],
     "language": "python",
     "metadata": {},
     "outputs": [
      {
       "output_type": "stream",
       "stream": "stdout",
       "text": [
        "The autoreload extension is already loaded. To reload it, use:\n",
        "  %reload_ext autoreload\n",
        "Populating the interactive namespace from numpy and matplotlib"
       ]
      },
      {
       "output_type": "stream",
       "stream": "stdout",
       "text": [
        "\n"
       ]
      }
     ],
     "prompt_number": 107
    },
    {
     "cell_type": "code",
     "collapsed": false,
     "input": [
      "from celeste import FitsImage, get_sources_from_catalog, gen_model_image, celeste_likelihood_multi_image\n",
      "from celeste_em import celeste_em\n",
      "import planck\n",
      "from glob import glob\n",
      "from util.init_utils import load_imgs_and_catalog\n",
      "\n",
      "# build a single catalog (python list of srcs), from one big list of FitsImages\n",
      "cat_glob = glob('../data/stamp_catalog/cat*.fits')[0:10]\n",
      "srcs, imgs, teff_catalog, us = load_imgs_and_catalog(cat_glob)\n",
      "print \"loaded %d sources and %d images\"%(len(srcs), len(imgs))\n",
      "\n",
      "#cache initial likelihood, initial temp\n",
      "ll0 = celeste_likelihood_multi_image(srcs, imgs)\n",
      "print ll0"
     ],
     "language": "python",
     "metadata": {},
     "outputs": [
      {
       "output_type": "stream",
       "stream": "stdout",
       "text": [
        "loaded 16 sources and 50 images\n",
        "489723962.789"
       ]
      },
      {
       "output_type": "stream",
       "stream": "stdout",
       "text": [
        "\n"
       ]
      }
     ],
     "prompt_number": 263
    },
    {
     "cell_type": "code",
     "collapsed": false,
     "input": [
      "# do a few random restarts\n",
      "restart_lls = []\n",
      "for restart_i in range(1): \n",
      "    # reset s's and do EM\n",
      "    for s in srcs:\n",
      "        s.t = np.random.rand()*1e4\n",
      "        s.b = np.random.rand()*1e-9\n",
      "        s.fluxes = None\n",
      "    for img in imgs:\n",
      "        img.epsilon = np.random.rand()*1e3\n",
      "\n",
      "    print \"========= EM for %d sources, %d images ================\"%(len(srcs), len(imgs))\n",
      "    ll_trace, conv = celeste_em(srcs, imgs, maxiter=80, debug=False, verbose=True)\n",
      "    print ll_trace[-1]\n",
      "    converged.append(conv)\n",
      "    restart_lls.append(ll_trace[-1])    \n",
      "print restart_lls\n",
      "\n",
      "# cache final likelihood\n",
      "lls.append(ll_trace[-1])\n",
      "print lls"
     ],
     "language": "python",
     "metadata": {},
     "outputs": [
      {
       "output_type": "stream",
       "stream": "stdout",
       "text": [
        "========= EM for 3 sources, 10 images ================\n",
        "Initial Log Likelihood = 82044935.16"
       ]
      },
      {
       "output_type": "stream",
       "stream": "stdout",
       "text": [
        "\n",
        "============================================\n",
        "  iter 0 E-step\n",
        "  iter 0 M-step"
       ]
      },
      {
       "output_type": "stream",
       "stream": "stdout",
       "text": [
        "\n",
        "      img 0 eps 293.15 => 39.01 (eps0 = 29.43)\n",
        "      img 1 eps 896.34 => 502.09 (eps0 = 329.89)\n",
        "      img 2 eps 13.00 => 1067.27 (eps0 = 826.72)\n",
        "      img 3 eps 85.51 => 1319.45 (eps0 = 1117.19)\n",
        "      img 4 eps 207.89 => 781.57 (eps0 = 735.31)\n",
        "      img 5 eps 26.53 => 30.06 (eps0 = 29.74)\n",
        "      img 6 eps 181.44 => 259.63 (eps0 = 252.22)\n",
        "      img 7 eps 583.04 => 574.43 (eps0 = 566.86)\n",
        "      img 8 eps 421.42 => 999.06 (eps0 = 993.48)\n",
        "      img 9 eps 892.67 => 714.83 (eps0 = 716.46)\n",
        "   src 0 temp       = 7222.67 => 4625.33"
       ]
      },
      {
       "output_type": "stream",
       "stream": "stdout",
       "text": [
        "\n",
        "   src 0 brightness = 0.00 => 0.00\n",
        "   src 1 temp       = 8302.20 => 4871.62"
       ]
      },
      {
       "output_type": "stream",
       "stream": "stdout",
       "text": [
        "\n",
        "   src 1 brightness = 0.00 => 0.00\n",
        "   src 2 temp       = 6680.85 => 5613.90"
       ]
      },
      {
       "output_type": "stream",
       "stream": "stdout",
       "text": [
        "\n",
        "   src 2 brightness = 0.00 => 0.00\n",
        ".... current marginal likelihood = 99093275.04"
       ]
      },
      {
       "output_type": "stream",
       "stream": "stdout",
       "text": [
        "\n",
        "============================================\n",
        "  iter 1 E-step\n",
        "  iter 1 M-step"
       ]
      },
      {
       "output_type": "stream",
       "stream": "stdout",
       "text": [
        "\n",
        "      img 0 eps 39.01 => 38.36 (eps0 = 29.43)\n",
        "      img 1 eps 502.09 => 490.15 (eps0 = 329.89)\n",
        "      img 2 eps 1067.27 => 1050.77 (eps0 = 826.72)\n",
        "      img 3 eps 1319.45 => 1304.77 (eps0 = 1117.19)\n",
        "      img 4 eps 781.57 => 777.33 (eps0 = 735.31)\n",
        "      img 5 eps 30.06 => 30.02 (eps0 = 29.74)\n",
        "      img 6 eps 259.63 => 259.10 (eps0 = 252.22)\n",
        "      img 7 eps 574.43 => 573.56 (eps0 = 566.86)\n",
        "      img 8 eps 999.06 => 997.81 (eps0 = 993.48)\n",
        "      img 9 eps 714.83 => 714.12 (eps0 = 716.46)\n",
        "   src 0 temp       = 4625.33 => 4145.83"
       ]
      },
      {
       "output_type": "stream",
       "stream": "stdout",
       "text": [
        "\n",
        "   src 0 brightness = 0.00 => 0.00\n",
        "   src 1 temp       = 4871.62 => 5509.99"
       ]
      },
      {
       "output_type": "stream",
       "stream": "stdout",
       "text": [
        "\n",
        "   src 1 brightness = 0.00 => 0.00\n",
        "   src 2 temp       = 5613.90 => 5640.49"
       ]
      },
      {
       "output_type": "stream",
       "stream": "stdout",
       "text": [
        "\n",
        "   src 2 brightness = 0.00 => 0.00\n",
        ".... current marginal likelihood = 99141613.09"
       ]
      },
      {
       "output_type": "stream",
       "stream": "stdout",
       "text": [
        "\n",
        "============================================\n",
        "  iter 2 E-step\n",
        "  iter 2 M-step"
       ]
      },
      {
       "output_type": "stream",
       "stream": "stdout",
       "text": [
        "\n",
        "      img 0 eps 38.36 => 38.60 (eps0 = 29.43)\n",
        "      img 1 eps 490.15 => 494.58 (eps0 = 329.89)\n",
        "      img 2 eps 1050.77 => 1056.90 (eps0 = 826.72)\n",
        "      img 3 eps 1304.77 => 1310.21 (eps0 = 1117.19)\n",
        "      img 4 eps 777.33 => 778.90 (eps0 = 735.31)\n",
        "      img 5 eps 30.02 => 30.03 (eps0 = 29.74)\n",
        "      img 6 eps 259.10 => 259.30 (eps0 = 252.22)\n",
        "      img 7 eps 573.56 => 573.89 (eps0 = 566.86)\n",
        "      img 8 eps 997.81 => 998.29 (eps0 = 993.48)\n",
        "      img 9 eps 714.12 => 714.39 (eps0 = 716.46)\n",
        "   src 0 temp       = 4145.83 => 3767.52"
       ]
      },
      {
       "output_type": "stream",
       "stream": "stdout",
       "text": [
        "\n",
        "   src 0 brightness = 0.00 => 0.00\n",
        "   src 1 temp       = 5509.99 => 5598.79"
       ]
      },
      {
       "output_type": "stream",
       "stream": "stdout",
       "text": [
        "\n",
        "   src 1 brightness = 0.00 => 0.00\n",
        "   src 2 temp       = 5640.49 => 5742.58"
       ]
      },
      {
       "output_type": "stream",
       "stream": "stdout",
       "text": [
        "\n",
        "   src 2 brightness = 0.00 => 0.00\n",
        ".... current marginal likelihood = 99137534.03"
       ]
      },
      {
       "output_type": "stream",
       "stream": "stdout",
       "text": [
        "\n",
        "marginal likelihood DECREASED!!!\n",
        "   99141613.0947 => 99137534.0253\n",
        "   probably a bug or a failure of the internal maximization scheme\n",
        "marginal likelihood converging, stopping (iter = 2, maxiter = 80)\n",
        "99137534.0253\n",
        "[99137534.0253243]\n",
        "[99175340.961224049, 99060339.007452413, 99137534.0253243]\n"
       ]
      }
     ],
     "prompt_number": 258
    },
    {
     "cell_type": "code",
     "collapsed": false,
     "input": [
      "plt.plot(ll_trace)\n",
      "plt.hlines(ll0, 0, len(ll_trace))\n",
      "print ll0\n",
      "print ll_trace[-1]\n",
      "plt.show()"
     ],
     "language": "python",
     "metadata": {},
     "outputs": [
      {
       "output_type": "stream",
       "stream": "stdout",
       "text": [
        "99329078.5847\n",
        "99137534.0253\n"
       ]
      },
      {
       "metadata": {},
       "output_type": "display_data",
       "png": "[encoded data removed]",
       "text": [
        "<matplotlib.figure.Figure at 0x110403850>"
       ]
      }
     ],
     "prompt_number": 259
    },
    {
     "cell_type": "code",
     "collapsed": false,
     "input": [],
     "language": "python",
     "metadata": {},
     "outputs": [
      {
       "output_type": "stream",
       "stream": "stdout",
       "text": [
        "[6082.880859375, 6364.8642578125, 8448.5458984375, 3900.0, 4091.19140625, 7548.8955078125, 4130.083984375, 3705.0, 6021.87548828125, 4122.34814453125, 4859.958984375, 5670.822265625, 6192.8759765625, 6181.2626953125, 5054.6826171875, 8193.9716796875, 6145.884765625, 8526.30078125, 8395.095703125, 7524.4541015625]\n",
        "[5623.8553311233964, 5935.4775825739162, 7902.3307422455646, 6107.8366207361896, 3396.5064047282344, 6904.2813446369037, 3385.1431942898253, 6083.4422034357531, 5607.6706917480642, 3567.5762391572671, 934.36885782003992, 5287.9202653064913, 5973.4989950814397, 6312.7011939524727, 4731.4889302929159, 8696.8220549176604, 6159.1047070084242, 8967.5334227719995, 10174.886243492259, 7252.0925769735622]\n",
        "['0.9103--4.4559', '1.0792--6.0845', '106.5134-39.0525', '118.3707-52.5271', '12.4199--0.3387', '126.2648-13.5561', '13.4592--1.1880', '130.1765-52.7501', '150.5244--0.4788', '156.1608-39.0309', '157.5680-8.8928', '163.8114-65.5188', '164.4311-39.0359', '18.4685-26.8727', '180.0962-48.1701', '181.0341-13.5850', '183.4414-39.7608', '185.7218-18.8366', '188.3444-63.4421', '188.9508-2.0493']\n"
       ]
      },
      {
       "metadata": {},
       "output_type": "display_data",
       "text": [
        "<matplotlib.figure.Figure at 0x1091fead0>"
       ]
      }
     ],
     "prompt_number": 43
    },
    {
     "cell_type": "code",
     "collapsed": false,
     "input": [
      "pylab.rcParams['figure.figsize'] = (10.0, 8.0)\n",
      "teff_fits = np.array([s.t for s in srcs])\n",
      "tfits = teff_fits[teff_catalog > 0]\n",
      "teffs = teff_catalog[ teff_catalog > 0 ]\n",
      "\n",
      "#remove fucking mislabeled outlier\n",
      "teffs = teffs[tfits < 1e4]\n",
      "tfits = tfits[tfits < 1e4]\n",
      "\n",
      "#tfits = np.array(tfits)\n",
      "plt.scatter(teffs, tfits)\n",
      "#for i,u in enumerate(us):\n",
      "#    if np.abs(teffs[i] - tfits[i]) / teffs[i] > .2:\n",
      "#        print u\n",
      "#        plt.text(teffs[i]+10, tfits[i]+10, u)\n",
      "minT = min(teffs.min(), tfits.min()) - 1000\n",
      "maxT = max(teffs.max(), tfits.max()) + 1000\n",
      "plt.plot([minT, maxT], [minT, maxT],  color='k', linestyle='-', linewidth=2)\n",
      "plt.axes().set_aspect('equal', 'datalim')\n",
      "#plt.xlim([minT, 10000]) #maxT])\n",
      "#plt.ylim([minT, 10000]) #maxT])\n",
      "plt.ylim([minT, 10000])\n",
      "plt.xlim([minT, 10000])\n",
      "print minT, maxT\n",
      "#plt.xlabel('Temp: T_EFF (K)')\n",
      "#plt.ylabel('Temp: $\\hat t_s$ (K)')\n",
      "plt.title('Maximum Likelihood Temperature Fits')\n",
      "#plt.savefig('max_like_temp_fits.pdf')\n",
      "plt.show()\n"
     ],
     "language": "python",
     "metadata": {},
     "outputs": [
      {
       "output_type": "stream",
       "stream": "stdout",
       "text": [
        "2384.70468942 9448.54589844\n"
       ]
      },
      {
       "metadata": {},
       "output_type": "display_data",
       "png": "[encoded data removed]",
       "text": [
        "<matplotlib.figure.Figure at 0x10ae7fd10>"
       ]
      }
     ],
     "prompt_number": 196
    },
    {
     "cell_type": "code",
     "collapsed": false,
     "input": [],
     "language": "python",
     "metadata": {},
     "outputs": [],
     "prompt_number": 236
    },
    {
     "cell_type": "code",
     "collapsed": false,
     "input": [],
     "language": "python",
     "metadata": {},
     "outputs": [],
     "prompt_number": 236
    },
    {
     "cell_type": "code",
     "collapsed": false,
     "input": [],
     "language": "python",
     "metadata": {},
     "outputs": []
    }
   ],
   "metadata": {}
  }
 ]
}