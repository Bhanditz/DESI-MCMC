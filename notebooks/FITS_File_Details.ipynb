{
 "metadata": {
  "name": "",
  "signature": "sha256:9277b378aed21a37b07dd6cd72f8bb002a04d2348a50b73b911b38bb7453a5ad"
 },
 "nbformat": 3,
 "nbformat_minor": 0,
 "worksheets": [
  {
   "cells": [
    {
     "cell_type": "code",
     "collapsed": false,
     "input": [
      "%load_ext autoreload\n",
      "%autoreload 2\n",
      "%pylab inline\n",
      "pylab.rcParams['figure.figsize'] = (14.0, 8.0)"
     ],
     "language": "python",
     "metadata": {},
     "outputs": [
      {
       "output_type": "stream",
       "stream": "stdout",
       "text": [
        "The autoreload extension is already loaded. To reload it, use:\n",
        "  %reload_ext autoreload\n",
        "Populating the interactive namespace from numpy and matplotlib"
       ]
      },
      {
       "output_type": "stream",
       "stream": "stdout",
       "text": [
        "\n"
       ]
      },
      {
       "output_type": "stream",
       "stream": "stderr",
       "text": [
        "WARNING: pylab import has clobbered these variables: ['multivariate_normal']\n",
        "`%matplotlib` prevents importing * from pylab and numpy\n"
       ]
      }
     ],
     "prompt_number": 58
    },
    {
     "cell_type": "heading",
     "level": 1,
     "metadata": {},
     "source": [
      "Celeste Model and FITS File Details"
     ]
    },
    {
     "cell_type": "markdown",
     "metadata": {},
     "source": [
      "This notebook will serve as a reference for the parameters present in an SDSS FITS file.  The FITS header describes the relationship between this image's pixel space and it's equatorial coordinate orientation, details of the sky, values of the dark variance and the point spread function.  \n",
      "\n",
      "More details can be found here: http://data.sdss3.org/datamodel/files/BOSS_PHOTOOBJ/frames/RERUN/RUN/CAMCOL/frame.html"
     ]
    },
    {
     "cell_type": "heading",
     "level": 3,
     "metadata": {},
     "source": [
      "Compute \"Data Numbers\" and Nelec"
     ]
    },
    {
     "cell_type": "markdown",
     "metadata": {},
     "source": [
      "The number of electrons is the quantity that is conditionally Poisson distributed, and will eventually enter into our likelihood as $x_{n,m} = $ # {electrons in pixel $m$ of image $n$}. \n",
      "\n",
      "We have \n",
      "* Dark variance: SDSS dark variance captures fluctuations due to equipment\n",
      "* SKY: level of background noise - light captured not from modeled sources\n",
      "* CALIB: Calibration vector (mean calibration vector) for the image.  \n",
      "* GAIN: gain added after the fact\n",
      "\n",
      "Still to figure out: how do we obtain these exact images via the tractor interface? "
     ]
    },
    {
     "cell_type": "code",
     "collapsed": false,
     "input": [
      "##############################\n",
      "# 0. load in the five bands\n",
      "##############################\n",
      "import fitsio\n",
      "bands = ['g', 'r', 'i', 'u', 'z']\n",
      "imgs  = []\n",
      "headers = []\n",
      "dns   = []\n",
      "nelecs = []\n",
      "for b in bands: \n",
      "  b_file = \"data/stamps/stamp-%s-150.5244--0.4788.fits\"%b\n",
      "  img    = fitsio.read(b_file)\n",
      "  header = fitsio.read_header(b_file)\n",
      "  \n",
      "  # the mystical data number.  Neither of these look like integers\n",
      "  dn     = img / header[\"CALIB\"] + header[\"SKY\"]\n",
      "  nelec  = dn * header[\"GAIN\"]\n",
      "\n",
      "  # keep each band\n",
      "  imgs.append(img)\n",
      "  headers.append(header)\n",
      "  dns.append(dn)\n",
      "  nelecs.append(nelec)\n",
      "\n",
      "# display data number files\n",
      "fig, axarr = plt.subplots(1, 5)\n",
      "for i, dn in enumerate(nelecs):\n",
      "    axarr[i].imshow(dn.T, origin='lower', interpolation='none')\n",
      "    axarr[i].set_title(\"Num Electrons, band %s\"%bands[i])\n",
      "fig.tight_layout()\n",
      "plt.show()"
     ],
     "language": "python",
     "metadata": {},
     "outputs": [
      {
       "metadata": {},
       "output_type": "display_data",
       "png": "[encoded data removed]",
       "text": [
        "<matplotlib.figure.Figure at 0x7f63d6a40550>"
       ]
      }
     ],
     "prompt_number": 59
    },
    {
     "cell_type": "heading",
     "level": 3,
     "metadata": {},
     "source": [
      "Image Reference Point, Calibration Information"
     ]
    },
    {
     "cell_type": "markdown",
     "metadata": {},
     "source": [
      "Every image is associated with a reference point that describes the relationship between pixel space and the equatorial coordinate system. \n",
      "\n",
      "Let $\\rho_n$ and $\\phi_n$ correspond to the pixel-space reference point and equatorial coordinate system reference point, respectively, for image $n$. The local mapping between pixel-space and equatorial space is approximated as linear, using the linear transformatoin $\\Upsilon_n$, where the function\n",
      "\n",
      "\\begin{align}\n",
      "  s_{pix} = \\Upsilon_n(s_{equa} - \\phi_n) + \\rho_n\n",
      "\\end{align}\n",
      "\n",
      "and \n",
      "\n",
      "\\begin{align}\n",
      "  s_{equa} = \\Upsilon_n^{-1} (s_{pix} - \\rho_n) + \\phi_n\n",
      "\\end{align}\n",
      "\n",
      "where $s_{pix}$ is the point in pixel space corresponding to the point $s_{equa}$ in equatorial coordinates.  \n",
      "\n",
      "There is also some fixed amount of noise due to the sky, dark variance (e.g. equipment fluctuations), and some gain added.  This should have been un-done by the above computation.  \n",
      "\n",
      "In the FITS file: \n",
      "* $\\rho_n$ = ( CRPIX1, CRPIX2 )\n",
      "* $\\phi_n$ = ( CRVAL1, CRVAL2 )\n",
      "* $\\Upsilon_n$ = [[CD1_1, CD1_2], [CD2_1, CD2_2]]$^{-1}$"
     ]
    },
    {
     "cell_type": "code",
     "collapsed": false,
     "input": [
      "############################################\n",
      "# 1. Examine the image reference point  \n",
      "############################################\n",
      "# The bands in the image above have been aligned, so the header refs should be the same for all\n",
      "# (this is not the case in general)\n",
      "\n",
      "# reference points\n",
      "rho_n = np.array([header['CRPIX1'], header['CRPIX2']])\n",
      "phi_n = np.array([header['CRVAL1'], header['CRVAL2']])\n",
      "Ups_n = np.array([[header['CD1_1'], header['CD1_2']], [header['CD2_1'], header['CD2_2']]])"
     ],
     "language": "python",
     "metadata": {},
     "outputs": [
      {
       "output_type": "stream",
       "stream": "stdout",
       "text": [
        "Brightest pixel:      [28 37]\n",
        " ... in equatorial:   [ 130.17621    52.751401]\n",
        "\n",
        "SIMPLE  =                    T / file does conform to FITS standard\n",
        "BITPIX  =                  -64 / number of bits per data pixel\n",
        "NAXIS   =                    2 / number of data axes\n",
        "NAXIS1  =                   51 / length of data axis 1\n",
        "NAXIS2  =                   51 / length of data axis 2\n",
        "EXTEND  =                    T / FITS dataset may contain extensions\n",
        "COMMENT   FITS (Flexible Image Transport System) format is defined in 'Astronomy\n",
        "COMMENT   and Astrophysics', volume 376, page 359; bibcode: 2001A&A...376..359H\n",
        "CRVAL1  =            130.17654 / Reference RA\n",
        "CRVAL2  =            52.750081 / Reference Dec\n",
        "CRPIX1  =                  25. / Reference x\n",
        "CRPIX2  =                  25. / Reference y\n",
        "CD1_1   =             -0.00011 / CD matrix\n",
        "CD1_2   =                   0. / CD matrix\n",
        "CD2_1   =                   0. / CD matrix\n",
        "CD2_2   =              0.00011 / CD matrix\n",
        "IMAGEW  =                  51. / Image width\n",
        "IMAGEH  =                  51. / Image height\n",
        "RUN     =                 1345 / SDSS run\n",
        "CAMCOL  =                    6 / SDSS camcol\n",
        "FIELD   =                  164 / SDSS field\n",
        "BAND    = 'z       '           / SDSS band\n",
        "NMGY    =            0.0331523 / Calibration factor [nMgy per count]\n",
        "CALIB   =    0.032381571829319 / Mean \"calibvec\" value for this image\n",
        "SKY     =     109.860572814941 / SDSS sky estimate at image center\n",
        "GAIN    =     4.69000005722046 / SDSS gain\n",
        "DARKVAR =     1.21000003814697 / SDSS dark variance\n",
        "T_EFF   =                3705. / Effective temperature\n",
        "DT_EFF  =                   0. / Effective temperature error\n",
        "PSF_P0  =    0.700368872492329 / amp0\n",
        "PSF_P1  =    0.251341035680154 / amp1\n",
        "PSF_P2  =    0.064144811231577 / amp2\n",
        "PSF_P3  =  -0.0374285771733737 / mean0x\n",
        "PSF_P4  = -0.00541124742474526 / mean0y\n",
        "PSF_P5  =   -0.210757764097984 / mean1x\n",
        "PSF_P6  =   0.0336493946794098 / mean1y\n",
        "PSF_P7  =    0.912206847673717 / mean2x\n",
        "PSF_P8  =   0.0248853583016267 / mean2y\n",
        "PSF_P9  =     1.79202962148807 / var0xx\n",
        "PSF_P10 =     1.71413690386338 / var0yy\n",
        "PSF_P11 =  0.00153620332429954 / var0xy\n",
        "PSF_P12 =     6.73293054298061 / var1xx\n",
        "PSF_P13 =     7.70829438525697 / var1yy\n",
        "PSF_P14 =    0.639893161695942 / var1xy\n",
        "PSF_P15 =     37.6579240684594 / var2xx\n",
        "PSF_P16 =     41.1790801548582 / var2yy\n",
        "PSF_P17 =    0.090620224074781 / var2xy\n"
       ]
      }
     ],
     "prompt_number": 12
    },
    {
     "cell_type": "heading",
     "level": 3,
     "metadata": {},
     "source": [
      "Point Spread Function"
     ]
    },
    {
     "cell_type": "markdown",
     "metadata": {},
     "source": [
      "The point spread function is also included in the FITS file header.  The PSF is modeled as a mixture of three Gaussians, \n",
      "\\begin{align}\n",
      "  \\bar \\xi_{n,k} &= \\text{ component $k$ mean }\\\\\n",
      "  \\bar \\Sigma_{n,k} &= \\text{ component $k$ covariance} \\\\\n",
      "  \\bar \\alpha_{n,k} &= \\text{ component $k$ mixing weight (amplitude) }\n",
      "\\end{align}\n"
     ]
    },
    {
     "cell_type": "code",
     "collapsed": false,
     "input": [
      "############################################\n",
      "# 1. Examine the point spread function\n",
      "############################################\n",
      "psfvec = [header['PSF_P%d'%i] for i in range(18)]\n",
      "weights = np.array(psfvec[0:3])\n",
      "means   = np.array(psfvec[3:9]).reshape(3, 2)  # one comp mean per row\n",
      "covars  = np.array(psfvec[9:]).reshape(3, 3)   # [var_k(x), var_k(y), cov_k(x,y)] per row\n",
      "\n",
      "print weights\n",
      "print means\n",
      "print covars"
     ],
     "language": "python",
     "metadata": {},
     "outputs": [
      {
       "output_type": "stream",
       "stream": "stdout",
       "text": [
        "[ 0.70036887  0.25134104  0.06414481]\n",
        "[[-0.03742858 -0.00541125]\n",
        " [-0.21075776  0.03364939]\n",
        " [ 0.91220685  0.02488536]]\n",
        "[[  1.79202962e+00   1.71413690e+00   1.53620332e-03]\n",
        " [  6.73293054e+00   7.70829439e+00   6.39893162e-01]\n",
        " [  3.76579241e+01   4.11790802e+01   9.06202241e-02]]\n"
       ]
      }
     ],
     "prompt_number": 13
    },
    {
     "cell_type": "code",
     "collapsed": false,
     "input": [
      "######################################################\n",
      "# Package up Fits Image and parameters into a class\n",
      "######################################################\n",
      "import fitsio\n",
      "class FitsImage():\n",
      "    def __init__(self, band, fits_file_template=\"data/stamps/stamp-%s-130.1765-52.7501.fits\"): \n",
      "        band_file = fits_file_template%band\n",
      "        img       = fitsio.read(band_file)\n",
      "        header    = fitsio.read_header(band_file)\n",
      "        self.header = header\n",
      "        self.band   = band\n",
      "\n",
      "        # the mystical data number.  Neither of these look like integers\n",
      "        self.dn    =  img / header[\"CALIB\"] + header[\"SKY\"]\n",
      "        self.nelec = dn * header[\"GAIN\"]\n",
      "        self.shape = nelec.shape\n",
      "\n",
      "        # reference points\n",
      "        self.rho_n = np.array([header['CRPIX1'], header['CRPIX2']])\n",
      "        self.phi_n = np.array([header['CRVAL1'], header['CRVAL2']])\n",
      "        self.Ups_n = np.array([[header['CD1_1'], header['CD1_2']], \n",
      "                               [header['CD2_1'], header['CD2_2']]])\n",
      "\n",
      "        # TODO: set KAPPA and epsilon - both image specific\n",
      "        self.kappa   = header['DARKVAR']   # TODO is this right??\n",
      "        self.epsilon = header['SKY']\n",
      "        \n",
      "        # point spread function\n",
      "        psfvec = [header['PSF_P%d'%i] for i in range(18)]\n",
      "        self.weights = np.array(psfvec[0:3])\n",
      "        self.means   = np.array(psfvec[3:9]).reshape(3, 2)  # one comp mean per row\n",
      "        covars       = np.array(psfvec[9:]).reshape(3, 3)   # [var_k(x), var_k(y), cov_k(x,y)] per row\n",
      "        self.covars  = np.zeros((3, 2, 2))\n",
      "        for i in range(3):\n",
      "            self.covars[i,:,:] = np.array([[covars[i,0], covars[i,2]], [covars[i,2], covars[i,1]]])\n",
      "    \n",
      "    def equa2pixel(self, s_equa):\n",
      "        return np.solve(self.Ups_n, s_equa - self.phi_n) + self.rho_n\n",
      "\n",
      "    def pixel2equa(self, s_pixel):\n",
      "        return self.Ups_n.dot(s_pix - self.rho_n) + self.phi_n\n"
     ],
     "language": "python",
     "metadata": {},
     "outputs": [],
     "prompt_number": 54
    },
    {
     "cell_type": "heading",
     "level": 2,
     "metadata": {},
     "source": [
      "Celeste Model Likelihood (Stars Only)"
     ]
    },
    {
     "cell_type": "markdown",
     "metadata": {},
     "source": [
      "Our goal is to infer properties of stars and galaxies (sources).  Initially, we are going to infer properties of stars, which are modeled as point sources.  For a point source $s$, we can explain the electron counts by the following probabilistic model: \n",
      "\n",
      "The prior over source properties: \n",
      "\\begin{align}\n",
      "  u_s = (u_s^{(ra)}, u_s^{(dec)}) &\\sim P_u && \\text{location of the center of the source (equatorial coordinates)} \\\\\n",
      "  b_s = (b_s^{(r)}, ..., b_s^{(z)}) &\\sim P_b && \\text{brightness of measured bands, $r, ..., z$} \\\\\n",
      "  t_s &\\sim P_t &&\\text{temperature of the source} \\\\\n",
      "\\end{align}\n",
      "\n",
      "The likelihood over electron counts for stars is: \n",
      "\\begin{align}\n",
      "  x_{n,m} | z, u, t, b &\\sim \\textrm{Pois}(\\kappa_n F(m)) && \\text{ for image $n$, pixel $m$ }\\\\\n",
      "  F(m) &= \\epsilon_n + \\sum_{s=1}^S b_s I_{\\beta_n}(t_s) f_s(m) \\\\\n",
      "  f_s(m)  &= \\sum_{k=1}^3 \\bar \\alpha_{n,k} \\phi(m; v_{n,s} + \\bar \\xi_{n,k}, \\bar \\Sigma_{n,k})\n",
      "\\end{align}\n",
      "where \n",
      "* $\\phi$ is the normal density function (with specified mean and covariance)\n",
      "* $I_{\\beta_{n}}(t)$ is the expected number of photons detected by the telescope per joule, filtered through band $\\beta$, from a star with temperature $t$. NOTE: Jeff is using a look-up table for this particular function. \n",
      "* $P_u, P_b, P_t$ are generic priors over location, brightness, and temperature, respectively."
     ]
    },
    {
     "cell_type": "code",
     "collapsed": false,
     "input": [
      "from scipy.stats import multivariate_normal\n",
      "from scipy.misc import logsumexp\n",
      "\n",
      "class PointSrcParams(): \n",
      "    def __init__(self, u, b, t): \n",
      "        self.u = u\n",
      "        self.b = b\n",
      "        self.t = t\n",
      "        \n",
      "## Create the red image\n",
      "fits_img = FitsImage('r')\n",
      "\n",
      "# find brightest spot in pixel space \n",
      "s_pix  = np.array(np.where(fits_img.nelec.max()==fits_img.nelec)).squeeze()\n",
      "s_equa = fits_img.pixel2equa(s_pix)\n",
      "print \"Brightest pixel:     \", s_pix\n",
      "print \" ... in equatorial:  \", s_equa\n",
      "src = PointSrcParams(s_equa, b={'r':1., 'g':1.}, t=1.)\n",
      "\n",
      "# likelihood function\n",
      "def celeste_likelihood(srcs, image):\n",
      "    f_s = np.zeros((len(srcs), image.shape[0], image.shape[1]))\n",
      "    for s, src in enumerate(srcs):\n",
      "        \n",
      "        # compute pixel space location, v_{n,s}\n",
      "        v          = image.equa2pixel(src.u)\n",
      "        w_grid     = np.arange(image.nelec.shape[0])\n",
      "        h_grid     = np.arange(image.nelec.shape[1])\n",
      "        ww, hh     = np.meshgrid(w_grid, h_grid)\n",
      "        f_s[s,:,:] = gmm_log_like(np.column_stack((ww.ravel(), hh.ravel())), \n",
      "                                  image.weights, image.means + v, image.covs).reshape(ww.shape)\n",
      "        \n",
      "        # compute the band-specific temperature multiplier for this source\n",
      "        ## I_band_s = \n",
      "        ## f_s[s,:,:] *= I_band_s\n",
      "        \n",
      "        # multiply by band-specific brightness\n",
      "        f_s[s,:,:] *= src.b[image.band]\n",
      "        \n",
      "    # Plug f_s and I_band into \n",
      "    F_m = src.epsilon + np.sum(f_s, axis=0)\n",
      "    return image.kappa * F_m\n",
      "\n",
      "\n",
      "\n",
      "\n",
      "        \n",
      "    \n",
      "    \n",
      "def gmm_log_like(x, ws, mus, sigs): \n",
      "    N_elem = np.atleast_1d(x).shape[0] # number of rows of data \n",
      "    ll = np.zeros((N_elem, len(ws)))\n",
      "    for k in range(len(ws)):\n",
      "        ll[:, k] = multivariate_normal(mean=mus[k], cov=sigs[k]).logpdf(x) + np.log(ws[k])\n",
      "    return logsumexp(ll, axis=1)\n",
      "\n",
      "\n"
     ],
     "language": "python",
     "metadata": {},
     "outputs": [
      {
       "output_type": "stream",
       "stream": "stdout",
       "text": [
        "Brightest pixel:      [28 37]\n",
        " ... in equatorial:   [ 130.17621    52.751401]\n"
       ]
      }
     ],
     "prompt_number": 56
    },
    {
     "cell_type": "code",
     "collapsed": false,
     "input": [
      "a = np.random.randn(3, 2)\n",
      "print a\n",
      "a + np.array([1, 2])\n"
     ],
     "language": "python",
     "metadata": {},
     "outputs": [
      {
       "output_type": "stream",
       "stream": "stdout",
       "text": [
        "[[-0.5336488  -0.00552786]\n",
        " [-0.22945045  0.38934891]\n",
        " [-1.26511911  1.09199226]]\n"
       ]
      },
      {
       "metadata": {},
       "output_type": "pyout",
       "prompt_number": 43,
       "text": [
        "array([[ 0.4663512 ,  1.99447214],\n",
        "       [ 0.77054955,  2.38934891],\n",
        "       [-0.26511911,  3.09199226]])"
       ]
      }
     ],
     "prompt_number": 43
    },
    {
     "cell_type": "code",
     "collapsed": false,
     "input": [
      "# Vis test to make sure GMM is correct\n",
      "np.random.seed(42)\n",
      "K = 2\n",
      "means = 2*np.random.randn(K*2).reshape(K, 2)\n",
      "covs  = np.zeros((K, 2, 2))\n",
      "for i in range(K): \n",
      "    covs[i,:,:] = np.random.randn(2,2)\n",
      "    covs[i,:,:] = covs[i,:,:].dot(covs[i,:,:].T)\n",
      "ws    = np.random.rand(K)\n",
      "ws /= np.sum(ws)\n",
      "print means, covs, ws\n",
      "\n",
      "xgrid = np.linspace(-3, 3, 500)\n",
      "ygrid = np.linspace(-5, 5, 500)\n",
      "xx, yy = np.meshgrid(xgrid, ygrid)\n",
      "zz = gmm_log_like( np.column_stack((xx.ravel(), yy.ravel())), ws,  means, covs ).reshape(xx.shape)\n",
      "plt.contour(xx, yy, np.exp(zz))\n"
     ],
     "language": "python",
     "metadata": {},
     "outputs": []
    }
   ],
   "metadata": {}
  }
 ]
}