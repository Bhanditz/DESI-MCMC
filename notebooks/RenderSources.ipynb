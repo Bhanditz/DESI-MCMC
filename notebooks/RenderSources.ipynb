{
 "metadata": {
  "name": "",
  "signature": "sha256:ce26ad664b30069e094070fbbf5e5922edef0bc83aa69b743afaab426b63fd0e"
 },
 "nbformat": 3,
 "nbformat_minor": 0,
 "worksheets": [
  {
   "cells": [
    {
     "cell_type": "code",
     "collapsed": false,
     "input": [
      "%load_ext autoreload\n",
      "%autoreload 2\n",
      "%pylab inline\n",
      "pylab.rcParams['figure.figsize'] = (10.0, 8.0)\n",
      "import sys\n",
      "import os.path\n",
      "sys.path.append(\n",
      "    os.path.abspath(os.path.join(os.path.dirname('..'), os.path.pardir)))"
     ],
     "language": "python",
     "metadata": {},
     "outputs": [
      {
       "output_type": "stream",
       "stream": "stdout",
       "text": [
        "The autoreload extension is already loaded. To reload it, use:\n",
        "  %reload_ext autoreload\n",
        "Populating the interactive namespace from numpy and matplotlib"
       ]
      },
      {
       "output_type": "stream",
       "stream": "stdout",
       "text": [
        "\n"
       ]
      }
     ],
     "prompt_number": 1
    },
    {
     "cell_type": "code",
     "collapsed": false,
     "input": [
      "from celeste import FitsImage, gen_model_image, get_sources_from_catalog\n",
      "\n",
      "# Get 'r' band nelec info for (188.3444, 63.4421)\n",
      "img  = FitsImage('r', '../data/stamps/stamp-%s-188.3444-63.4421.fits')\n",
      "\n",
      "# Corresponding source information\n",
      "srcs = get_sources_from_catalog('../data/stamps/cat-188.3444-63.4421.fits')\n",
      "\n",
      "# show (ra, dec) => pixel_x, pixel_y\n",
      "u0 = srcs[0].u\n",
      "p0 = img.equa2pixel(srcs[0].u)\n",
      "print \"First source: \"\n",
      "print \"  (ra, dec)       : (%2.4f, %2.4f)\"%(u0[0], u0[1])\n",
      "print \"  (pix_x, pix_y)  : (%2.4f, %2.4f)\"%(p0[0], p0[1])\n",
      "by, bx = np.where(img.nelec==img.nelec.max())\n",
      "print \"  brightest pixel : (%2.4f, %2.4f)\"%(bx + 1, by + 1)"
     ],
     "language": "python",
     "metadata": {},
     "outputs": [
      {
       "output_type": "stream",
       "stream": "stdout",
       "text": [
        "First source: \n",
        "  (ra, dec)       : (188.3444, 63.4421)\n",
        "  (pix_x, pix_y)  : (26.0470, 26.1040)\n",
        "  brightest pixel : (26.0000, 26.0000)\n"
       ]
      }
     ],
     "prompt_number": 2
    },
    {
     "cell_type": "code",
     "collapsed": false,
     "input": [
      "# Plot model images, sources shifted by (0, -2) - empirically looks best for 188.3444, 63.4421\n",
      "from celeste import FitsImage, gen_model_image, get_sources_from_catalog\n",
      "def plot_comparison(band, file_ra_dec):   \n",
      "    \n",
      "    ## 0. Create an image from fits file (cache )\n",
      "    fits_file_template = \"../data/stamps/stamp-%s-%s.fits\"%(\"%s\", file_ra_dec)\n",
      "    fits_img = FitsImage(band, fits_file_template)\n",
      "    print \"%d total photons observed due to sources in band %s over exposure\"%((fits_img.img/fits_img.calib).sum(), band)\n",
      "    \n",
      "    ## 1. get source parameters from catalog fits file\n",
      "    cat_file = \"../data/stamps/cat-%s.fits\"%file_ra_dec\n",
      "    srcs = get_sources_from_catalog(cat_file = cat_file) \n",
      "    print \"%d source(s) in catalog\"%len(srcs)    \n",
      "    print \"   source 0 expected # photons %2.2f\"%(srcs[0].b[band]/fits_img.calib)\n",
      "    \n",
      "    ## 2. Gen model image\n",
      "    model_image = gen_model_image(srcs, fits_img)\n",
      "    print \"max brightness observed: %d\"%fits_img.nelec.max()\n",
      "    print \"max brightness model   : %d\"%model_image.max()\n",
      "    \n",
      "    ## 3. Plot original image, model image\n",
      "    fig, axarr  = plt.subplots(1, 3)\n",
      "    axarr[0].imshow(fits_img.nelec, interpolation='none', origin='lower')\n",
      "    axarr[0].set_title('Observed Image, band=%s'%fits_img.band)\n",
      "    axarr[1].imshow(model_image, interpolation='none', origin='lower')\n",
      "    axarr[1].set_title('Model Image, band=%s'%fits_img.band)\n",
      "    im = axarr[2].imshow(model_image - fits_img.nelec, interpolation='none', origin='lower')\n",
      "    axarr[2].set_title('Diff image, Model - Observed')\n",
      "    plt.colorbar(im, shrink=.5)\n",
      "    fig.suptitle('Band: %s, File RA-Dec: %s'%(band, file_ra_dec), fontsize=15)\n",
      "    fig.tight_layout()\n",
      "    return fig, axarr\n",
      "\n",
      "# gather all of the RA/DEC extensions\n",
      "from glob import glob\n",
      "import sys, os\n",
      "cat_glob = glob('../data/stamps/cat*.fits')\n",
      "cat_glob = cat_glob[2:3]\n",
      "for patch in cat_glob:\n",
      "    file_ra_dec = os.path.basename(patch)[4:-5]\n",
      "    print file_ra_dec\n",
      "    fig, axarr = plot_comparison('r', file_ra_dec)\n",
      "    plt.show()"
     ],
     "language": "python",
     "metadata": {},
     "outputs": [
      {
       "output_type": "stream",
       "stream": "stdout",
       "text": [
        "270.0000-0.0030\n",
        "63685 total photons observed due to sources in band r over exposure\n",
        "9 source(s) in catalog"
       ]
      },
      {
       "output_type": "stream",
       "stream": "stdout",
       "text": [
        "\n"
       ]
      },
      {
       "ename": "TypeError",
       "evalue": "'NoneType' object has no attribute '__getitem__'",
       "output_type": "pyerr",
       "traceback": [
        "\u001b[1;31m---------------------------------------------------------------------------\u001b[0m\n\u001b[1;31mTypeError\u001b[0m                                 Traceback (most recent call last)",
        "\u001b[1;32m<ipython-input-3-f5c8b48a245f>\u001b[0m in \u001b[0;36m<module>\u001b[1;34m()\u001b[0m\n\u001b[0;32m     40\u001b[0m     \u001b[0mfile_ra_dec\u001b[0m \u001b[1;33m=\u001b[0m \u001b[0mos\u001b[0m\u001b[1;33m.\u001b[0m\u001b[0mpath\u001b[0m\u001b[1;33m.\u001b[0m\u001b[0mbasename\u001b[0m\u001b[1;33m(\u001b[0m\u001b[0mpatch\u001b[0m\u001b[1;33m)\u001b[0m\u001b[1;33m[\u001b[0m\u001b[1;36m4\u001b[0m\u001b[1;33m:\u001b[0m\u001b[1;33m-\u001b[0m\u001b[1;36m5\u001b[0m\u001b[1;33m]\u001b[0m\u001b[1;33m\u001b[0m\u001b[0m\n\u001b[0;32m     41\u001b[0m     \u001b[1;32mprint\u001b[0m \u001b[0mfile_ra_dec\u001b[0m\u001b[1;33m\u001b[0m\u001b[0m\n\u001b[1;32m---> 42\u001b[1;33m     \u001b[0mfig\u001b[0m\u001b[1;33m,\u001b[0m \u001b[0maxarr\u001b[0m \u001b[1;33m=\u001b[0m \u001b[0mplot_comparison\u001b[0m\u001b[1;33m(\u001b[0m\u001b[1;34m'r'\u001b[0m\u001b[1;33m,\u001b[0m \u001b[0mfile_ra_dec\u001b[0m\u001b[1;33m)\u001b[0m\u001b[1;33m\u001b[0m\u001b[0m\n\u001b[0m\u001b[0;32m     43\u001b[0m     \u001b[0mplt\u001b[0m\u001b[1;33m.\u001b[0m\u001b[0mshow\u001b[0m\u001b[1;33m(\u001b[0m\u001b[1;33m)\u001b[0m\u001b[1;33m\u001b[0m\u001b[0m\n",
        "\u001b[1;32m<ipython-input-3-f5c8b48a245f>\u001b[0m in \u001b[0;36mplot_comparison\u001b[1;34m(band, file_ra_dec)\u001b[0m\n\u001b[0;32m     12\u001b[0m     \u001b[0msrcs\u001b[0m \u001b[1;33m=\u001b[0m \u001b[0mget_sources_from_catalog\u001b[0m\u001b[1;33m(\u001b[0m\u001b[0mcat_file\u001b[0m \u001b[1;33m=\u001b[0m \u001b[0mcat_file\u001b[0m\u001b[1;33m)\u001b[0m\u001b[1;33m\u001b[0m\u001b[0m\n\u001b[0;32m     13\u001b[0m     \u001b[1;32mprint\u001b[0m \u001b[1;34m\"%d source(s) in catalog\"\u001b[0m\u001b[1;33m%\u001b[0m\u001b[0mlen\u001b[0m\u001b[1;33m(\u001b[0m\u001b[0msrcs\u001b[0m\u001b[1;33m)\u001b[0m\u001b[1;33m\u001b[0m\u001b[0m\n\u001b[1;32m---> 14\u001b[1;33m     \u001b[1;32mprint\u001b[0m \u001b[1;34m\"   source 0 expected # photons %2.2f\"\u001b[0m\u001b[1;33m%\u001b[0m\u001b[1;33m(\u001b[0m\u001b[0msrcs\u001b[0m\u001b[1;33m[\u001b[0m\u001b[1;36m0\u001b[0m\u001b[1;33m]\u001b[0m\u001b[1;33m.\u001b[0m\u001b[0mb\u001b[0m\u001b[1;33m[\u001b[0m\u001b[0mband\u001b[0m\u001b[1;33m]\u001b[0m\u001b[1;33m/\u001b[0m\u001b[0mfits_img\u001b[0m\u001b[1;33m.\u001b[0m\u001b[0mcalib\u001b[0m\u001b[1;33m)\u001b[0m\u001b[1;33m\u001b[0m\u001b[0m\n\u001b[0m\u001b[0;32m     15\u001b[0m \u001b[1;33m\u001b[0m\u001b[0m\n\u001b[0;32m     16\u001b[0m     \u001b[1;31m## 2. Gen model image\u001b[0m\u001b[1;33m\u001b[0m\u001b[1;33m\u001b[0m\u001b[0m\n",
        "\u001b[1;31mTypeError\u001b[0m: 'NoneType' object has no attribute '__getitem__'"
       ]
      }
     ],
     "prompt_number": 3
    },
    {
     "cell_type": "code",
     "collapsed": false,
     "input": [
      "from scipy.stats.distributions import poisson\n",
      "from mpl_toolkits.axes_grid1 import make_axes_locatable\n",
      "def poisson_fit_summary(x_image, lam_image): \n",
      "    unif_image = poisson.cdf(x_image, lam_image)\n",
      "    \n",
      "    # plot PIT transfomred image (good fit == uniform)\n",
      "    fig, axarr = plt.subplots(1, 2)\n",
      "    im = axarr[0].imshow(unif_image.T, interpolation='none', origin='lower')\n",
      "    \n",
      "    # make colorbar (tight and same size)\n",
      "    divider = make_axes_locatable(axarr[0])\n",
      "    cax = divider.append_axes(\"right\", size=\"5%\", pad=0.1)\n",
      "    fig.colorbar(im, cax=cax)\n",
      "    axarr[0].set_title('Spatial Poisson Fit')\n",
      "\n",
      "    # plot uniform histogram\n",
      "    bins = axarr[1].hist(unif_image.ravel(), bins=20, normed=1, facecolor='lightblue', alpha=0.75)\n",
      "    axarr[1].hlines(1, xmin=0, xmax=1, linewidth=3, color='darkred')\n",
      "    axarr[1].set_xlim((0,1))\n",
      "    axarr[1].set_aspect('equal')\n",
      "    axarr[1].set_title('Empirical distribution of PIT vars')\n",
      "    return fig, axarr\n",
      "    \n",
      "## 0. Create an image from fits file\n",
      "band = 'r'\n",
      "file_ra_dec        = \"150.5244--0.4788\"\n",
      "fits_file_template = \"../data/stamps/stamp-%s-%s.fits\"%(\"%s\", file_ra_dec)\n",
      "fits_img           = FitsImage(band, fits_file_template)\n",
      "\n",
      "## 1. get source parameters from catalog fits file\n",
      "cat_file = \"../data/stamps/cat-%s.fits\"%file_ra_dec\n",
      "srcs     = get_sources_from_catalog(cat_file = cat_file) \n",
      "#print \"%d source(s) in catalog\"%len(srcs)    \n",
      "#print \"   source 0 expected # photons %2.2f\"%(srcs[0].b[band]/fits_img.calib)\n",
      "\n",
      "## 2. Gen model image\n",
      "model_image = gen_model_image(srcs, fits_img)\n",
      "\n",
      "## 3. fit summary\n",
      "fig, axarr = poisson_fit_summary(fits_img.nelec, model_image)\n",
      "fig.tight_layout()\n",
      "plt.show()                        "
     ],
     "language": "python",
     "metadata": {},
     "outputs": [
      {
       "output_type": "stream",
       "stream": "stdout",
       "text": [
        "Temperature contribution:  9.15211385626e+16 6021.875\n"
       ]
      },
      {
       "metadata": {},
       "output_type": "display_data",
       "png": "[encoded data removed]",
       "text": [
        "<matplotlib.figure.Figure at 0x109a07550>"
       ]
      }
     ],
     "prompt_number": 51
    },
    {
     "cell_type": "code",
     "collapsed": false,
     "input": [],
     "language": "python",
     "metadata": {},
     "outputs": [],
     "prompt_number": 23
    },
    {
     "cell_type": "code",
     "collapsed": false,
     "input": [],
     "language": "python",
     "metadata": {},
     "outputs": [
      {
       "output_type": "stream",
       "stream": "stdout",
       "text": [
        "667.845874626\n",
        "617.029869827\n"
       ]
      },
      {
       "metadata": {},
       "output_type": "display_data",
       "png": "[encoded data removed]",
       "text": [
        "<matplotlib.figure.Figure at 0x7fc4e3a18190>"
       ]
      }
     ],
     "prompt_number": 28
    },
    {
     "cell_type": "code",
     "collapsed": false,
     "input": [
      "img.header"
     ],
     "language": "python",
     "metadata": {},
     "outputs": [
      {
       "metadata": {},
       "output_type": "pyout",
       "prompt_number": 25,
       "text": [
        "\n",
        "SIMPLE  =                    T / file does conform to FITS standard\n",
        "BITPIX  =                  -64 / number of bits per data pixel\n",
        "NAXIS   =                    2 / number of data axes\n",
        "NAXIS1  =                   51 / length of data axis 1\n",
        "NAXIS2  =                   51 / length of data axis 2\n",
        "EXTEND  =                    T / FITS dataset may contain extensions\n",
        "COMMENT   FITS (Flexible Image Transport System) format is defined in 'Astronomy\n",
        "COMMENT   and Astrophysics', volume 376, page 359; bibcode: 2001A&A...376..359H\n",
        "CTYPE1  = 'RA---TAN'           / TANgent plane\n",
        "CTYPE2  = 'DEC--TAN'           / TANgent plane\n",
        "CRVAL1  =            188.34439 / Reference RA\n",
        "CRVAL2  =            63.442057 / Reference Dec\n",
        "CRPIX1  =                  26. / Reference x\n",
        "CRPIX2  =                  26. / Reference y\n",
        "CD1_1   =             -0.00011 / CD matrix\n",
        "CD1_2   =                   0. / CD matrix\n",
        "CD2_1   =                   0. / CD matrix\n",
        "CD2_2   =              0.00011 / CD matrix\n",
        "IMAGEW  =                  51. / Image width\n",
        "IMAGEH  =                  51. / Image height\n",
        "RUN     =                 2322 / SDSS run\n",
        "CAMCOL  =                    6 / SDSS camcol\n",
        "FIELD   =                   64 / SDSS field\n",
        "BAND    = 'r       '           / SDSS band\n",
        "NMGY    =           0.00539323 / Calibration factor [nMgy per count]\n",
        "CALIB   =   0.0053646732121706 / Mean \"calibvec\" value for this image\n",
        "SKY     =     136.434295654297 / SDSS sky estimate at image center\n",
        "GAIN    =     4.89499998092651 / SDSS gain\n",
        "DARKVAR =    0.902499973773956 / SDSS dark variance\n",
        "T_EFF   =             8395.096 / Effective temperature\n",
        "DT_EFF  =            0.7563477 / Effective temperature error\n",
        "PSF_P0  =    0.626875516774017 / amp0\n",
        "PSF_P1  =    0.340374910587714 / amp1\n",
        "PSF_P2  =   0.0414575842459265 / amp2\n",
        "PSF_P3  =  0.00658029078483179 / mean0x\n",
        "PSF_P4  =  -0.0362153088311407 / mean0y\n",
        "PSF_P5  =    0.205330798953099 / mean1x\n",
        "PSF_P6  =   -0.245682733811421 / mean1y\n",
        "PSF_P7  =    0.536552011453034 / mean2x\n",
        "PSF_P8  =    0.234894788467906 / mean2y\n",
        "PSF_P9  =     1.41948284570661 / var0xx\n",
        "PSF_P10 =      1.4631295780273 / var0yy\n",
        "PSF_P11 =  -0.0833110341513249 / var0xy\n",
        "PSF_P12 =     5.42165104258423 / var1xx\n",
        "PSF_P13 =      5.5028382567969 / var1yy\n",
        "PSF_P14 =  -0.0866852726935272 / var1xy\n",
        "PSF_P15 =     34.9967169274248 / var2xx\n",
        "PSF_P16 =     38.3741276721178 / var2yy\n",
        "PSF_P17 =   -0.467170747072938 / var2xy"
       ]
      }
     ],
     "prompt_number": 25
    },
    {
     "cell_type": "code",
     "collapsed": false,
     "input": [
      "from planck import photons_per_joule, photons_expected\n",
      "print photons_per_joule(8395., 'r')\n",
      "print photons_expected(8395., 1., 1., 'r')\n"
     ],
     "language": "python",
     "metadata": {},
     "outputs": [
      {
       "output_type": "stream",
       "stream": "stdout",
       "text": [
        "1.66599434529e+17\n",
        "1.13051203144e+13\n"
       ]
      }
     ],
     "prompt_number": 80
    },
    {
     "cell_type": "code",
     "collapsed": false,
     "input": [
      "6.995e8"
     ],
     "language": "python",
     "metadata": {},
     "outputs": [
      {
       "metadata": {},
       "output_type": "pyout",
       "prompt_number": 66,
       "text": [
        "699500000.0"
       ]
      }
     ],
     "prompt_number": 66
    },
    {
     "cell_type": "code",
     "collapsed": false,
     "input": [
      "import planck\n",
      "planck.m_per_ly\n",
      "planck.sun_wattage * planck.lens_area / (4*np.pi * planck.m_per_ly * planck.m_per_ly)\n",
      "\n",
      "photons_per_joule(83., 'r')"
     ],
     "language": "python",
     "metadata": {},
     "outputs": [
      {
       "metadata": {},
       "output_type": "pyout",
       "prompt_number": 76,
       "text": [
        "9495.9385795444123"
       ]
      }
     ],
     "prompt_number": 76
    },
    {
     "cell_type": "code",
     "collapsed": false,
     "input": [
      "x = planck.wavelength_lookup['r']**5\n",
      "\n",
      "print planck.hc_k / (x * 8395.)\n",
      "\n",
      "print x**5 * np.exp(planck.hc_k / (x * 8395) )"
     ],
     "language": "python",
     "metadata": {},
     "outputs": [
      {
       "output_type": "stream",
       "stream": "stdout",
       "text": [
        "[  3.80240598e+25   3.71527847e+25   3.63053572e+25   3.54810193e+25\n",
        "   3.46790403e+25   3.38987158e+25   3.31393668e+25   3.24003384e+25\n",
        "   3.16809990e+25   3.09807393e+25   3.02989716e+25   2.96351286e+25\n",
        "   2.89886629e+25   2.83590461e+25   2.77457681e+25   2.71483364e+25\n",
        "   2.65662754e+25   2.59991256e+25   2.54464433e+25   2.49077997e+25\n",
        "   2.43827807e+25   2.38709857e+25   2.33720279e+25   2.28855331e+25\n",
        "   2.24111397e+25   2.19484979e+25   2.14972695e+25   2.10571274e+25\n",
        "   2.06277551e+25   2.02088463e+25   1.98001048e+25   1.94012439e+25\n",
        "   1.90119861e+25   1.86320625e+25   1.82612133e+25   1.78991865e+25\n",
        "   1.75457382e+25   1.72006321e+25   1.68636396e+25   1.65345389e+25\n",
        "   1.62131152e+25   1.58991604e+25   1.55924729e+25   1.52928571e+25\n",
        "   1.50001234e+25   1.47140883e+25   1.44345735e+25   1.41614063e+25\n",
        "   1.38944191e+25   1.36334495e+25   1.33783397e+25   1.31289370e+25\n",
        "   1.28850928e+25   1.26466632e+25   1.24135084e+25   1.21854928e+25\n",
        "   1.19624846e+25   1.17443562e+25   1.15309833e+25   1.13222455e+25\n",
        "   1.11180256e+25   1.09182101e+25   1.07226885e+25   1.05313535e+25\n",
        "   1.03441009e+25   1.01608295e+25   9.98144085e+24   9.80583931e+24\n",
        "   9.63393194e+24   9.46562840e+24   9.30084085e+24   9.13948390e+24\n",
        "   8.98147450e+24   8.82673192e+24   8.67517763e+24   8.67517763e+24]\n",
        "[ inf  inf  inf  inf  inf  inf  inf  inf  inf  inf  inf  inf  inf  inf  inf\n",
        "  inf  inf  inf  inf  inf  inf  inf  inf  inf  inf  inf  inf  inf  inf  inf\n",
        "  inf  inf  inf  inf  inf  inf  inf  inf  inf  inf  inf  inf  inf  inf  inf\n",
        "  inf  inf  inf  inf  inf  inf  inf  inf  inf  inf  inf  inf  inf  inf  inf\n",
        "  inf  inf  inf  inf  inf  inf  inf  inf  inf  inf  inf  inf  inf  inf  inf\n",
        "  inf]\n"
       ]
      },
      {
       "output_type": "stream",
       "stream": "stderr",
       "text": [
        "-c:5: RuntimeWarning: overflow encountered in exp\n"
       ]
      }
     ],
     "prompt_number": 90
    },
    {
     "cell_type": "code",
     "collapsed": false,
     "input": [
      "from scipy.misc import logsumexp\n",
      "print logsumexp([-np.inf, 1])\n",
      "\n",
      "print np.log(np.exp(10./(3.4 * 11.)) - 1)\n"
     ],
     "language": "python",
     "metadata": {},
     "outputs": [
      {
       "output_type": "stream",
       "stream": "stdout",
       "text": [
        "1.0\n",
        "-1.18241871566\n"
       ]
      }
     ],
     "prompt_number": 108
    },
    {
     "cell_type": "code",
     "collapsed": false,
     "input": [
      "?plt.hist"
     ],
     "language": "python",
     "metadata": {},
     "outputs": [],
     "prompt_number": 28
    },
    {
     "cell_type": "code",
     "collapsed": false,
     "input": [
      "plt.plot(planck.wavelength_lookup['r'], planck.sensitivity_lookup['r'], 'o')"
     ],
     "language": "python",
     "metadata": {},
     "outputs": [
      {
       "metadata": {},
       "output_type": "pyout",
       "prompt_number": 119,
       "text": [
        "[<matplotlib.lines.Line2D at 0x7fdc1081ff90>]"
       ]
      },
      {
       "metadata": {},
       "output_type": "display_data",
       "png": "[encoded data removed]",
       "text": [
        "<matplotlib.figure.Figure at 0x7fdc10bb3cd0>"
       ]
      }
     ],
     "prompt_number": 119
    },
    {
     "cell_type": "code",
     "collapsed": false,
     "input": [
      "import fitsio\n",
      "img_header = fitsio.read_header('../data/stamps/stamp-r-130.1765-52.7501.fits')\n",
      "print img_header"
     ],
     "language": "python",
     "metadata": {},
     "outputs": [
      {
       "output_type": "stream",
       "stream": "stdout",
       "text": [
        "\n",
        "SIMPLE  =                    T / file does conform to FITS standard\n",
        "BITPIX  =                  -64 / number of bits per data pixel\n",
        "NAXIS   =                    2 / number of data axes\n",
        "NAXIS1  =                   51 / length of data axis 1\n",
        "NAXIS2  =                   51 / length of data axis 2\n",
        "EXTEND  =                    T / FITS dataset may contain extensions\n",
        "COMMENT   FITS (Flexible Image Transport System) format is defined in 'Astronomy\n",
        "COMMENT   and Astrophysics', volume 376, page 359; bibcode: 2001A&A...376..359H\n",
        "CTYPE1  = 'RA---TAN'           / TANgent plane\n",
        "CTYPE2  = 'DEC--TAN'           / TANgent plane\n",
        "CRVAL1  =            130.17654 / Reference RA\n",
        "CRVAL2  =            52.750081 / Reference Dec\n",
        "CRPIX1  =                  26. / Reference x\n",
        "CRPIX2  =                  26. / Reference y\n",
        "CD1_1   =             -0.00011 / CD matrix\n",
        "CD1_2   =                   0. / CD matrix\n",
        "CD2_1   =                   0. / CD matrix\n",
        "CD2_2   =              0.00011 / CD matrix\n",
        "IMAGEW  =                  51. / Image width\n",
        "IMAGEH  =                  51. / Image height\n",
        "RUN     =                 1345 / SDSS run\n",
        "CAMCOL  =                    6 / SDSS camcol\n",
        "FIELD   =                  164 / SDSS field\n",
        "BAND    = 'r       '           / SDSS band\n",
        "NMGY    =           0.00492517 / Calibration factor [nMgy per count]\n",
        "CALIB   =  0.00489847548305988 / Mean \"calibvec\" value for this image\n",
        "SKY     =     149.309555053711 / SDSS sky estimate at image center\n",
        "GAIN    =     4.89499998092651 / SDSS gain\n",
        "DARKVAR =    0.902499973773956 / SDSS dark variance\n",
        "T_EFF   =                3705. / Effective temperature\n",
        "DT_EFF  =                   0. / Effective temperature error\n",
        "PSF_P0  =    0.747819455535335 / amp0\n",
        "PSF_P1  =    0.230865262736568 / amp1\n",
        "PSF_P2  =   0.0331028207857835 / amp2\n",
        "PSF_P3  =   0.0278295357754903 / mean0x\n",
        "PSF_P4  =  -0.0132177380134404 / mean0y\n",
        "PSF_P5  =    0.120910023000283 / mean1x\n",
        "PSF_P6  =   0.0231489757818693 / mean1y\n",
        "PSF_P7  =    0.406358340643429 / mean2x\n",
        "PSF_P8  =    0.377029814640343 / mean2y\n",
        "PSF_P9  =     1.47814898136473 / var0xx\n",
        "PSF_P10 =     1.34193578552705 / var0yy\n",
        "PSF_P11 =   0.0714184177485637 / var0xy\n",
        "PSF_P12 =     6.69555556503243 / var1xx\n",
        "PSF_P13 =      6.4909717934104 / var1yy\n",
        "PSF_P14 =  -0.0106584769174569 / var1xy\n",
        "PSF_P15 =     43.6325058435017 / var2xx\n",
        "PSF_P16 =     44.1846078965268 / var2yy\n",
        "PSF_P17 =     1.99724185856449 / var2xy\n"
       ]
      }
     ],
     "prompt_number": 7
    },
    {
     "cell_type": "code",
     "collapsed": false,
     "input": [
      "import planck\n",
      "pylab.rcParams['figure.figsize'] = (10.0, 5.0)\n",
      "keys = planck.wavelength_lookup.keys()\n",
      "colors = ['blue', 'red', 'violet', 'cyan', 'green']\n",
      "for i, band in enumerate(keys):\n",
      "    plt.plot(planck.wavelength_lookup[band] * 1e10, planck.sensitivity_lookup[band], color=colors[i], linewidth=3)\n",
      "plt.xlabel('Wavelength, $\\lambda * 10^{10}$ (angstroms)')\n",
      "plt.ylabel('Filter sensitivity, $S_\\lambda$')\n",
      "plt.legend(keys)\n",
      "plt.title('Instrument filters by band')\n",
      "plt.savefig('../tex/imgs/filter_sensitivity.pdf')"
     ],
     "language": "python",
     "metadata": {},
     "outputs": [
      {
       "metadata": {},
       "output_type": "display_data",
       "png": "[encoded data removed]",
       "text": [
        "<matplotlib.figure.Figure at 0x113657090>"
       ]
      }
     ],
     "prompt_number": 80
    },
    {
     "cell_type": "code",
     "collapsed": false,
     "input": [],
     "language": "python",
     "metadata": {},
     "outputs": [],
     "prompt_number": 59
    },
    {
     "cell_type": "code",
     "collapsed": false,
     "input": [],
     "language": "python",
     "metadata": {},
     "outputs": []
    }
   ],
   "metadata": {}
  }
 ]
}