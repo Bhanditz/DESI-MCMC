{
 "metadata": {
  "name": "",
  "signature": "sha256:7d6728fab03f48e4952d03c8994b64fa3139640a1a8f5ad8aa0acc5605f87f0c"
 },
 "nbformat": 3,
 "nbformat_minor": 0,
 "worksheets": [
  {
   "cells": [
    {
     "cell_type": "code",
     "collapsed": false,
     "input": [
      "from astrometry.util.util import Tan\n",
      "import fitsio\n",
      "stamp_file   = '../data/blobs/stamp-g-270.0000-0.0030.fits'\n",
      "catalog_file = '../data/blobs/cat-270.0000-0.0030.fits'\n",
      "wcs          = Tan(stamp_file)\n",
      "header       = fitsio.read_header(stamp_file)\n",
      "img          = fitsio.read(stamp_file)\n",
      "catalog_data = fitsio.read(catalog_file)\n",
      "\n",
      "# catalog ra, dec\n",
      "print \"%d source(s) in catalog file\"%len(catalog_data)\n",
      "cat_ra, cat_dec = catalog_data[0][0], catalog_data[0][1]\n",
      "\n",
      "# convert catalog (ra, de) to pixel space \n",
      "ok, src_x, src_y = wcs.radec2pixelxy(cat_ra, cat_dec)\n",
      "print \"Catalog source pixel : %2.3f, %2.3f\"%(src_x, src_y)\n",
      "\n",
      "# find brightest location\n",
      "y, x = np.where(img==img.max())\n",
      "print \"Brightest pixel      : %2.3f, %2.3f\"%(x, y )\n",
      "plt.imshow(img, origin='lower', interpolation = 'none')\n",
      "plt.scatter(src_x, src_y, c='green', s=75)\n",
      "plt.title('g band')\n",
      "plt.show()"
     ],
     "language": "python",
     "metadata": {},
     "outputs": [
      {
       "output_type": "stream",
       "stream": "stdout",
       "text": [
        "1 source(s) in catalog file\n",
        "Catalog source pixel : 20.639, 24.975\n",
        "Brightest pixel      : 19.000, 30.000\n"
       ]
      },
      {
       "metadata": {},
       "output_type": "display_data",
       "png": "[encoded data removed]",
       "text": [
        "<matplotlib.figure.Figure at 0x1048858d0>"
       ]
      }
     ],
     "prompt_number": 50
    },
    {
     "cell_type": "code",
     "collapsed": false,
     "input": [],
     "language": "python",
     "metadata": {},
     "outputs": []
    }
   ],
   "metadata": {}
  }
 ]
}